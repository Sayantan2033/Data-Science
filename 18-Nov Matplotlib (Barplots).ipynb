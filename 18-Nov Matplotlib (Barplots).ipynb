{
 "cells": [
  {
   "cell_type": "markdown",
   "metadata": {},
   "source": [
    "# Matplotlib"
   ]
  },
  {
   "cell_type": "code",
   "execution_count": 6,
   "metadata": {},
   "outputs": [],
   "source": [
    "%load_ext watermark"
   ]
  },
  {
   "cell_type": "code",
   "execution_count": 7,
   "metadata": {},
   "outputs": [
    {
     "name": "stdout",
     "output_type": "stream",
     "text": [
      "last updated: 2019-11-18 \n",
      "\n",
      "CPython 3.7.3\n",
      "IPython 7.6.1\n",
      "\n",
      "matplotlib 3.1.0\n",
      "numpy 1.16.4\n"
     ]
    }
   ],
   "source": [
    "%watermark -u -v -d -p matplotlib,numpy"
   ]
  },
  {
   "cell_type": "code",
   "execution_count": 8,
   "metadata": {},
   "outputs": [],
   "source": [
    "%matplotlib inline"
   ]
  },
  {
   "cell_type": "markdown",
   "metadata": {},
   "source": [
    "## Barplots in Matplotlib"
   ]
  },
  {
   "cell_type": "raw",
   "metadata": {},
   "source": [
    "Sections:\n",
    "1. Barplot with error bars\n",
    "2. Horizontal barplot with error bars\n",
    "3. Back-to-back barplots\n",
    "4. Grouped barplots\n",
    "5. Stacked barplots\n",
    "6. Bar plot with plot labels / text 1\n",
    "7. Bar plot with plot labels / text 2\n",
    "8. Bar plot with auto-rotated labels and text\n",
    "9. Bar plot with color gradients\n",
    "10. Bar plot with pattern fill"
   ]
  },
  {
   "cell_type": "markdown",
   "metadata": {},
   "source": [
    "### Barplot with error bars:"
   ]
  },
  {
   "cell_type": "code",
   "execution_count": 16,
   "metadata": {},
   "outputs": [
    {
     "data": {
      "image/png": "[encoded data removed]",
      "text/plain": [
       "<Figure size 432x288 with 1 Axes>"
      ]
     },
     "metadata": {
      "needs_background": "light"
     },
     "output_type": "display_data"
    }
   ],
   "source": [
    "import matplotlib.pyplot as plt  #Adding pyplot lets you put graph on screen\n",
    "\n",
    "#input data\n",
    "mean_values = [1,2,3]\n",
    "variance = [0.3,0.4,0.5]\n",
    "bar_labels = [\"Bar 1\",\"Bar 2\",\"Bar 3\"]\n",
    "\n",
    "#Plotting the bars\n",
    "x_pos = list(range(len(bar_labels)))\n",
    "plt.bar(x_pos, mean_values, yerr=variance, align=\"center\", alpha=0.4)  #alpha sets transparency, default is 1.0\n",
    "\n",
    "plt.grid() #makes a grid\n",
    "\n",
    "#Setting height of the y-axis\n",
    "max_y = max(zip(mean_values, variance))\n",
    "plt.ylim([0, (max_y[0]+max_y[1])*1.1])\n",
    "\n",
    "#Setting axes labels and title\n",
    "plt.ylabel(\"variable y\") #Array-like, optional\n",
    "#A list of explicit labels to place at given locations\n",
    "plt.xticks(x_pos, bar_labels) #Pass an empty list to disable ticks\n",
    "\n",
    "plt.title(\"Bar plot with error bars\")\n",
    "\n",
    "#Showing the plot\n",
    "plt.show()\n",
    "\n",
    "#Saving the plot\n",
    "#plt.savefig(\"./my_plot.jpg\")"
   ]
  },
  {
   "cell_type": "markdown",
   "metadata": {},
   "source": [
    "### Horizontal barplot with error bars:"
   ]
  },
  {
   "cell_type": "code",
   "execution_count": 21,
   "metadata": {},
   "outputs": [
    {
     "data": {
      "image/png": "[encoded data removed]",
      "text/plain": [
       "<Figure size 576x432 with 1 Axes>"
      ]
     },
     "metadata": {
      "needs_background": "light"
     },
     "output_type": "display_data"
    }
   ],
   "source": [
    "import numpy as np\n",
    "\n",
    "#input data\n",
    "mean_values = [1,2,3]\n",
    "std_dev = [0.2,0.4,0.5]\n",
    "bar_labels = [\"Bar 1\",\"Bar 2\",\"Bar 3\"]\n",
    "\n",
    "fig = plt.figure(figsize=(8,6))\n",
    "\n",
    "#plot bars\n",
    "y_pos = np.arange(len(mean_values))\n",
    "y_pos = [x for x in y_pos]\n",
    "plt.yticks(y_pos, bar_labels, fontsize=10)\n",
    "plt.barh(y_pos, mean_values, xerr=std_dev, align=\"center\", alpha=0.4, color=\"g\")\n",
    "\n",
    "#Annotation and labels\n",
    "plt.xlabel(\"Measurement X\")\n",
    "t = plt.title(\"Bar plot with standard deviation\")\n",
    "plt.ylim([-1,len(mean_values)+0.0]) #The last value adds gap at the top of the chart\n",
    "plt.xlim([0,4])\n",
    "plt.grid()\n",
    "\n",
    "plt.show()"
   ]
  },
  {
   "cell_type": "markdown",
   "metadata": {},
   "source": [
    "### Back-to-back Barplot:"
   ]
  },
  {
   "cell_type": "code",
   "execution_count": 26,
   "metadata": {},
   "outputs": [
    {
     "data": {
      "image/png": "[encoded data removed]",
      "text/plain": [
       "<Figure size 576x432 with 1 Axes>"
      ]
     },
     "metadata": {
      "needs_background": "light"
     },
     "output_type": "display_data"
    }
   ],
   "source": [
    "import matplotlib.pyplot as plt\n",
    "import numpy as np\n",
    "\n",
    "#Input data\n",
    "X1 = np.array([1,2,3])\n",
    "X2 = np.array([2,2,3])\n",
    "\n",
    "bar_labels = [\"Bar 1\",\"Bar 2\",\"Bar 3\"]\n",
    "\n",
    "fig = plt.figure(figsize=(8,6))\n",
    "\n",
    "#Plotting bars\n",
    "y_pos = np.arange(len(X1))\n",
    "y_pos = [x for x in y_pos]\n",
    "plt.yticks(y_pos, bar_labels, fontsize=10)\n",
    "\n",
    "#This is the first array\n",
    "plt.barh(y_pos, X1, align=\"center\", alpha=0.4, color=\"g\")\n",
    "\n",
    "#We simply negate the values for the second array\n",
    "plt.barh(y_pos, -X2, align=\"center\", alpha=0.4, color=\"b\")\n",
    "\n",
    "#Annotation and labels\n",
    "plt.xlabel(\"Measurement X\")\n",
    "t = plt.title(\"Bar plot with standard deviation\")\n",
    "plt.ylim([-1,len(X1)+0.0]) #The last value adds gap at the top of the chart\n",
    "plt.xlim([-max(X2)-1, max(X1)+1])\n",
    "plt.grid()\n",
    "\n",
    "plt.show()"
   ]
  },
  {
   "cell_type": "markdown",
   "metadata": {},
   "source": [
    "### Grouped barplot:"
   ]
  },
  {
   "cell_type": "code",
   "execution_count": 29,
   "metadata": {},
   "outputs": [
    {
     "data": {
      "image/png": "[encoded data removed]",
      "text/plain": [
       "<Figure size 576x432 with 1 Axes>"
      ]
     },
     "metadata": {
      "needs_background": "light"
     },
     "output_type": "display_data"
    }
   ],
   "source": [
    "import matplotlib.pyplot as plt\n",
    "\n",
    "#Input data\n",
    "green_data = [1,2,3]\n",
    "blue_data = [3,2,1]\n",
    "red_data = [2,3,3]\n",
    "labels = [\"Group 1\",\"Group 2\",\"Group 3\"]\n",
    "\n",
    "#Setting the positions and width of bars\n",
    "pos = list(range(len(green_data)))\n",
    "width = 0.2\n",
    "\n",
    "#plotting the bars\n",
    "fig, ax = plt.subplots(figsize=(8,6))\n",
    "\n",
    "plt.bar(pos, green_data, width, alpha=0.5, color=\"g\", label=labels[0]) #Green data\n",
    "\n",
    "plt.bar([p + width for p in pos], blue_data, width, alpha=0.5, color=\"b\", label=labels[1]) #Blue data\n",
    "\n",
    "plt.bar([p + width*2 for p in pos], red_data, width, alpha=0.5, color=\"r\", label=labels[2]) #Red data\n",
    "\n",
    "#Setting axis labels and ticks\n",
    "ax.set_ylabel(\"Y-Value\")\n",
    "ax.set_title(\"Grouped bar plot\")\n",
    "ax.set_xticks([p + 1.5*width for p in pos])\n",
    "ax.set_xticklabels(labels)\n",
    "\n",
    "#Setting x-axis and y-axis limits\n",
    "plt.xlim(min(pos)-width*2, max(pos)+width*4)\n",
    "plt.ylim([0, max(green_data+blue_data+red_data)*1.5])\n",
    "\n",
    "#Adding the legend and showing the plot\n",
    "plt.legend([\"green\",\"blue\",\"red\"], loc=\"upper left\")\n",
    "plt.grid()\n",
    "\n",
    "plt.show()"
   ]
  },
  {
   "cell_type": "markdown",
   "metadata": {},
   "source": [
    "### Stacked barplot:"
   ]
  },
  {
   "cell_type": "code",
   "execution_count": 6,
   "metadata": {},
   "outputs": [
    {
     "data": {
      "image/png": "[encoded data removed]",
      "text/plain": [
       "<Figure size 720x360 with 2 Axes>"
      ]
     },
     "metadata": {
      "needs_background": "light"
     },
     "output_type": "display_data"
    }
   ],
   "source": [
    "import matplotlib.pyplot as plt\n",
    "\n",
    "blue_data = [100,120,140]\n",
    "red_data = [150,120,190]\n",
    "green_data = [80,70,90]\n",
    "\n",
    "f, (ax1, ax2) = plt.subplots(1, 2, figsize=(10,5))\n",
    "\n",
    "bar_width = 0.5\n",
    "\n",
    "#Positions of left bar boundaries\n",
    "bar_l = [i+1 for i in range(len(blue_data))]\n",
    "\n",
    "#Positions of x-axis ticks\n",
    "tick_pos = [i+(bar_width/2) for i in bar_l]\n",
    "\n",
    "#Absolute count\n",
    "\n",
    "ax1.bar(bar_l, blue_data, width=bar_width, label=\"blue data\", alpha=0.5, color=\"b\")\n",
    "ax1.bar(bar_l, red_data, width=bar_width, bottom=blue_data, label=\"red data\", alpha=0.5, color=\"r\")\n",
    "ax1.bar(bar_l, green_data, width=bar_width, bottom=[i+j for i,j in zip(blue_data,red_data)], label=\"green data\", alpha=0.5, color=\"g\")\n",
    "\n",
    "plt.sca(ax1) #Scale\n",
    "plt.xticks(tick_pos, [\"Category 1\", \"Category 2\", \"Category 3\"])\n",
    "\n",
    "ax1.set_ylabel(\"Count\")\n",
    "ax1.set_xlabel(\"\")\n",
    "plt.legend(loc=\"upper left\")\n",
    "plt.xlim([min(tick_pos)-bar_width, max(tick_pos)+bar_width])\n",
    "plt.grid()\n",
    "\n",
    "#Rotate axis labels\n",
    "plt.setp(plt.gca().get_xticklabels(), rotation=45, horizontalalignment=\"right\")\n",
    "\n",
    "#Percent\n",
    "totals = [i+j+k for i,j,k in zip(blue_data, red_data, green_data)]\n",
    "blue_rel = [i / j * 100 for  i,j in zip(blue_data, totals)]\n",
    "red_rel = [i / j * 100 for  i,j in zip(red_data, totals)]\n",
    "green_rel = [i / j * 100 for  i,j in zip(green_data, totals)]\n",
    "\n",
    "ax2.bar(bar_l, blue_rel, label='blue data', alpha=0.5, color='b', width=bar_width)\n",
    "ax2.bar(bar_l, red_rel, bottom=blue_rel, label='red data', alpha=0.5, color='r', width=bar_width)\n",
    "ax2.bar(bar_l, green_rel, bottom=[i+j for i,j in zip(blue_rel, red_rel)], label='green data', alpha=0.5, color='g', width=bar_width)\n",
    "\n",
    "plt.sca(ax2)\n",
    "plt.xticks(tick_pos, ['category 1', 'category 2', 'category 3'])\n",
    "ax2.set_ylabel(\"Percentage\")\n",
    "ax2.set_xlabel(\"\")\n",
    "plt.legend(loc=\"upper left\")\n",
    "\n",
    "plt.xlim([min(tick_pos)-bar_width, max(tick_pos)+bar_width])\n",
    "plt.ylim([0, 130])\n",
    "plt.grid()\n",
    "\n",
    "#rotate axis labels\n",
    "plt.setp(plt.gca().get_xticklabels(), rotation=45, horizontalalignment='right')\n",
    "\n",
    "plt.show()"
   ]
  },
  {
   "cell_type": "markdown",
   "metadata": {},
   "source": [
    "### Bar plot with plot labels / text 1:"
   ]
  },
  {
   "cell_type": "code",
   "execution_count": 6,
   "metadata": {},
   "outputs": [
    {
     "data": {
      "image/png": "[encoded data removed]",
      "text/plain": [
       "<Figure size 720x576 with 1 Axes>"
      ]
     },
     "metadata": {
      "needs_background": "light"
     },
     "output_type": "display_data"
    }
   ],
   "source": [
    "import matplotlib.pyplot as plt\n",
    "import numpy as np\n",
    "\n",
    "data = range(200,225,5)\n",
    "\n",
    "bar_labels = [\"a\",\"b\",\"c\",\"d\",\"e\"]\n",
    "\n",
    "fig = plt.figure(figsize=(10,8))\n",
    "\n",
    "#Plotting the bars\n",
    "y_pos = np.arange(len(data))\n",
    "plt.yticks(y_pos, bar_labels, fontsize=16)\n",
    "bars = plt.barh(y_pos, data, align=\"center\", alpha=0.4, color=\"g\") #Horizontal bar\n",
    "\n",
    "#Annotation and labels #This is the important part\n",
    "for b,d in zip(bars,data):\n",
    "    plt.text(b.get_width()+b.get_width()*0.08, b.get_y()+b.get_height()/2, '{0:.2%}'.format(d/min(data)), ha='center', va='bottom', fontsize=12)\n",
    "\n",
    "plt.xlabel(\"X Axis\", fontsize=14)\n",
    "plt.ylabel(\"Y Axis\", fontsize=14)\n",
    "t = plt.title(\"Bar plot with plot labels / text 1\", fontsize=18)\n",
    "plt.ylim([-1,len(data)+0.0])\n",
    "plt.vlines(min(data), -1, len(data)+0.5, linestyles='dashed')\n",
    "\n",
    "plt.grid()"
   ]
  },
  {
   "cell_type": "markdown",
   "metadata": {},
   "source": [
    "### Bar plot with plot labels / text 2:"
   ]
  },
  {
   "cell_type": "code",
   "execution_count": 6,
   "metadata": {},
   "outputs": [
    {
     "data": {
      "image/png": "[encoded data removed]",
      "text/plain": [
       "<Figure size 432x288 with 1 Axes>"
      ]
     },
     "metadata": {
      "needs_background": "light"
     },
     "output_type": "display_data"
    }
   ],
   "source": [
    "import matplotlib.pyplot as plt\n",
    "\n",
    "#input data\n",
    "mean_values = [1, 2, 3]\n",
    "bar_labels = [\"Bar 1\", \"Bar 2\", \"Bar 3\"]\n",
    "variance = [0.3, 0.4, 0.5]\n",
    "\n",
    "#plot bars\n",
    "x_pos = list(range(len(bar_labels)))\n",
    "rects = plt.bar(x_pos, mean_values, align=\"center\", alpha=0.5)\n",
    "\n",
    "#label bars\n",
    "def autolabel(rects):\n",
    "    for ii,rect in enumerate(rects):\n",
    "        height = rect.get_height()\n",
    "        plt.text(rect.get_x()+rect.get_width()/2., 1.02*height, '%s'% (mean_values[ii]), ha='center', va='bottom')\n",
    "\n",
    "autolabel(rects) #Call the label function\n",
    "    \n",
    "#set height of the y-axis\n",
    "max_y = max(zip(mean_values, variance)) # returns a tuple, here: (3, 5)\n",
    "plt.ylim([0, (max_y[0] + max_y[1]) * 1.1])\n",
    "\n",
    "#set axes labels and title\n",
    "plt.ylabel(\"Y variable\")\n",
    "plt.xticks(x_pos, bar_labels)\n",
    "plt.title(\"Bar plot with labels\")\n",
    "\n",
    "plt.show()"
   ]
  },
  {
   "cell_type": "markdown",
   "metadata": {},
   "source": [
    "### Barplot with auto-rotated labels and text:"
   ]
  },
  {
   "cell_type": "code",
   "execution_count": 7,
   "metadata": {},
   "outputs": [
    {
     "data": {
      "image/png": "[encoded data removed]",
      "text/plain": [
       "<Figure size 432x288 with 1 Axes>"
      ]
     },
     "metadata": {
      "needs_background": "light"
     },
     "output_type": "display_data"
    }
   ],
   "source": [
    "import matplotlib.pyplot as plt\n",
    "\n",
    "idx = range(4)\n",
    "values = [100, 1000, 5000, 20000]\n",
    "labels = ['category 1', 'category 2', 'category 3', 'category 4']\n",
    "\n",
    "fig, ax = plt.subplots(1)\n",
    "\n",
    "#Automatically align and rotate tick labels:\n",
    "fig.autofmt_xdate()\n",
    "\n",
    "#Make the bars\n",
    "bars = plt.bar(idx, values, align='center')\n",
    "plt.xticks(idx, labels)\n",
    "plt.tight_layout()\n",
    "\n",
    "# Add text labels to the top of the bars\n",
    "def autolabel(bars):\n",
    "    for bar in bars:\n",
    "        height = bar.get_height()\n",
    "        ax.text(bar.get_x() + bar.get_width()/2., 1.05 * height, '%d' % int(height), ha='center', va='bottom')\n",
    "\n",
    "autolabel(bars)\n",
    "plt.ylim([0, 25000])\n",
    "\n",
    "plt.show()"
   ]
  },
  {
   "cell_type": "markdown",
   "metadata": {},
   "source": [
    "### Bar plot with color gradients:"
   ]
  },
  {
   "cell_type": "code",
   "execution_count": 17,
   "metadata": {},
   "outputs": [
    {
     "data": {
      "image/png": "[encoded data removed]",
      "text/plain": [
       "<Figure size 432x288 with 2 Axes>"
      ]
     },
     "metadata": {
      "needs_background": "light"
     },
     "output_type": "display_data"
    }
   ],
   "source": [
    "import matplotlib.pyplot as plt\n",
    "import matplotlib.colors as col #This is required for the color\n",
    "import matplotlib.cm as cm\n",
    "\n",
    "#input data\n",
    "mean_values = range(10,18) #Y axis values\n",
    "x_pos = range(len(mean_values))\n",
    "\n",
    "\n",
    "#create colormap\n",
    "cmap1 = cm.ScalarMappable(col.Normalize(min(mean_values), max(mean_values), cm.hot))\n",
    "cmap2 = cm.ScalarMappable(col.Normalize(0, 20, cm.hot))\n",
    "\n",
    "#plot bars\n",
    "plt.subplot(121)\n",
    "plt.bar(x_pos, mean_values, align='center', alpha=0.5, color=cmap1.to_rgba(mean_values))\n",
    "plt.ylim(0, max(mean_values) * 1.1)\n",
    "\n",
    "plt.subplot(122)\n",
    "plt.bar(x_pos, mean_values, align='center', alpha=0.5, color=cmap2.to_rgba(mean_values))\n",
    "plt.ylim(0, max(mean_values) * 1.1)\n",
    "\n",
    "plt.show()"
   ]
  },
  {
   "cell_type": "markdown",
   "metadata": {},
   "source": [
    "### Bar plot with pattern fill:"
   ]
  },
  {
   "cell_type": "code",
   "execution_count": 11,
   "metadata": {},
   "outputs": [
    {
     "data": {
      "image/png": "[encoded data removed]",
      "text/plain": [
       "<Figure size 432x288 with 1 Axes>"
      ]
     },
     "metadata": {
      "needs_background": "light"
     },
     "output_type": "display_data"
    }
   ],
   "source": [
    "import matplotlib.pyplot as plt\n",
    "\n",
    "patterns = ('-', '+', 'x', '\\\\', '*', 'o', 'O', '.') #This is where you set the patterns\n",
    "\n",
    "fig = plt.gca()\n",
    "\n",
    "#input data\n",
    "mean_values = range(1, len(patterns)+1)\n",
    "\n",
    "#plot bars\n",
    "x_pos = list(range(len(mean_values)))\n",
    "bars = plt.bar(x_pos, mean_values, align='center', color='white')\n",
    "\n",
    "#set patterns\n",
    "for bar, pattern in zip(bars, patterns):\n",
    "     bar.set_hatch(pattern)\n",
    "        \n",
    "\n",
    "#set axes labels and formatting\n",
    "fig.axes.get_yaxis().set_visible(False)        \n",
    "plt.ylim([0, max(mean_values) * 1.1])\n",
    "plt.xticks(x_pos, patterns)\n",
    "\n",
    "plt.show()"
   ]
  },
  {
   "cell_type": "code",
   "execution_count": null,
   "metadata": {},
   "outputs": [],
   "source": []
  }
 ],
 "metadata": {
  "kernelspec": {
   "display_name": "Python 3",
   "language": "python",
   "name": "python3"
  },
  "language_info": {
   "codemirror_mode": {
    "name": "ipython",
    "version": 3
   },
   "file_extension": ".py",
   "mimetype": "text/x-python",
   "name": "python",
   "nbconvert_exporter": "python",
   "pygments_lexer": "ipython3",
   "version": "3.7.3"
  }
 },
 "nbformat": 4,
 "nbformat_minor": 2
}
