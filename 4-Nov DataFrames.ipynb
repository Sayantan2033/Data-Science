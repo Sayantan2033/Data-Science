{
 "cells": [
  {
   "cell_type": "markdown",
   "metadata": {},
   "source": [
    "# Dataframe\n",
    "\n",
    "It is a table, it has rows and columns. Every column is a series and every row consists of series elements. A DataFrame can be constructed using in-built Python dicts."
   ]
  },
  {
   "cell_type": "code",
   "execution_count": 1,
   "metadata": {},
   "outputs": [
    {
     "data": {
      "text/html": [
       "<div>\n",
       "<style scoped>\n",
       "    .dataframe tbody tr th:only-of-type {\n",
       "        vertical-align: middle;\n",
       "    }\n",
       "\n",
       "    .dataframe tbody tr th {\n",
       "        vertical-align: top;\n",
       "    }\n",
       "\n",
       "    .dataframe thead th {\n",
       "        text-align: right;\n",
       "    }\n",
       "</style>\n",
       "<table border=\"1\" class=\"dataframe\">\n",
       "  <thead>\n",
       "    <tr style=\"text-align: right;\">\n",
       "      <th></th>\n",
       "      <th>country</th>\n",
       "      <th>Population</th>\n",
       "      <th>Square</th>\n",
       "    </tr>\n",
       "  </thead>\n",
       "  <tbody>\n",
       "    <tr>\n",
       "      <th>0</th>\n",
       "      <td>India</td>\n",
       "      <td>125.04</td>\n",
       "      <td>2724902</td>\n",
       "    </tr>\n",
       "    <tr>\n",
       "      <th>1</th>\n",
       "      <td>Russia</td>\n",
       "      <td>143.50</td>\n",
       "      <td>17125191</td>\n",
       "    </tr>\n",
       "    <tr>\n",
       "      <th>2</th>\n",
       "      <td>Belarus</td>\n",
       "      <td>9.50</td>\n",
       "      <td>205600</td>\n",
       "    </tr>\n",
       "    <tr>\n",
       "      <th>3</th>\n",
       "      <td>Ukraine</td>\n",
       "      <td>45.50</td>\n",
       "      <td>603628</td>\n",
       "    </tr>\n",
       "  </tbody>\n",
       "</table>\n",
       "</div>"
      ],
      "text/plain": [
       "   country  Population    Square\n",
       "0    India      125.04   2724902\n",
       "1   Russia      143.50  17125191\n",
       "2  Belarus        9.50    205600\n",
       "3  Ukraine       45.50    603628"
      ]
     },
     "execution_count": 1,
     "metadata": {},
     "output_type": "execute_result"
    }
   ],
   "source": [
    "import pandas as pd\n",
    "\n",
    "df = pd.DataFrame({\"country\":[\"India\",\"Russia\",\"Belarus\",\"Ukraine\"],\n",
    "                  \"Population\":[125.04,143.5,9.5,45.5],\n",
    "                  \"Square\":[2724902,17125191,205600,603628]})\n",
    "df #use this instead of print otherwise it prints in a weird manner"
   ]
  },
  {
   "cell_type": "code",
   "execution_count": 2,
   "metadata": {},
   "outputs": [
    {
     "data": {
      "text/plain": [
       "0      India\n",
       "1     Russia\n",
       "2    Belarus\n",
       "3    Ukraine\n",
       "Name: country, dtype: object"
      ]
     },
     "execution_count": 2,
     "metadata": {},
     "output_type": "execute_result"
    }
   ],
   "source": [
    "#In order to make sure each column is a series\n",
    "\n",
    "df[\"country\"]"
   ]
  },
  {
   "cell_type": "code",
   "execution_count": 3,
   "metadata": {},
   "outputs": [
    {
     "data": {
      "text/plain": [
       "pandas.core.series.Series"
      ]
     },
     "execution_count": 3,
     "metadata": {},
     "output_type": "execute_result"
    }
   ],
   "source": [
    "type(df[\"country\"])"
   ]
  },
  {
   "cell_type": "code",
   "execution_count": 4,
   "metadata": {},
   "outputs": [
    {
     "data": {
      "text/plain": [
       "Index(['country', 'Population', 'Square'], dtype='object')"
      ]
     },
     "execution_count": 4,
     "metadata": {},
     "output_type": "execute_result"
    }
   ],
   "source": [
    "df.columns #Returns the headings as an index object"
   ]
  },
  {
   "cell_type": "code",
   "execution_count": 5,
   "metadata": {},
   "outputs": [
    {
     "data": {
      "text/plain": [
       "pandas.core.indexes.base.Index"
      ]
     },
     "execution_count": 5,
     "metadata": {},
     "output_type": "execute_result"
    }
   ],
   "source": [
    "type(df.columns)"
   ]
  },
  {
   "cell_type": "code",
   "execution_count": 6,
   "metadata": {},
   "outputs": [
    {
     "data": {
      "text/plain": [
       "RangeIndex(start=0, stop=4, step=1)"
      ]
     },
     "execution_count": 6,
     "metadata": {},
     "output_type": "execute_result"
    }
   ],
   "source": [
    "df.index"
   ]
  },
  {
   "cell_type": "code",
   "execution_count": 7,
   "metadata": {},
   "outputs": [
    {
     "name": "stdout",
     "output_type": "stream",
     "text": [
      "RangeIndex(start=0, stop=4, step=1)\n"
     ]
    }
   ],
   "source": [
    "print(df.index)"
   ]
  },
  {
   "cell_type": "markdown",
   "metadata": {},
   "source": [
    "# Accessing elements by index\n",
    "There are numerous ways to provide row index explicitly, for example you can provide index when creating a DataFrame or do it “on the fly” during runtime:"
   ]
  },
  {
   "cell_type": "code",
   "execution_count": 8,
   "metadata": {},
   "outputs": [
    {
     "data": {
      "text/html": [
       "<div>\n",
       "<style scoped>\n",
       "    .dataframe tbody tr th:only-of-type {\n",
       "        vertical-align: middle;\n",
       "    }\n",
       "\n",
       "    .dataframe tbody tr th {\n",
       "        vertical-align: top;\n",
       "    }\n",
       "\n",
       "    .dataframe thead th {\n",
       "        text-align: right;\n",
       "    }\n",
       "</style>\n",
       "<table border=\"1\" class=\"dataframe\">\n",
       "  <thead>\n",
       "    <tr style=\"text-align: right;\">\n",
       "      <th></th>\n",
       "      <th>country</th>\n",
       "      <th>Population</th>\n",
       "      <th>Square</th>\n",
       "    </tr>\n",
       "  </thead>\n",
       "  <tbody>\n",
       "    <tr>\n",
       "      <th>IND</th>\n",
       "      <td>India</td>\n",
       "      <td>125.04</td>\n",
       "      <td>2724902</td>\n",
       "    </tr>\n",
       "    <tr>\n",
       "      <th>RU</th>\n",
       "      <td>Russia</td>\n",
       "      <td>143.50</td>\n",
       "      <td>17125191</td>\n",
       "    </tr>\n",
       "    <tr>\n",
       "      <th>BY</th>\n",
       "      <td>Belarus</td>\n",
       "      <td>9.50</td>\n",
       "      <td>205600</td>\n",
       "    </tr>\n",
       "    <tr>\n",
       "      <th>UA</th>\n",
       "      <td>Ukraine</td>\n",
       "      <td>45.50</td>\n",
       "      <td>603628</td>\n",
       "    </tr>\n",
       "  </tbody>\n",
       "</table>\n",
       "</div>"
      ],
      "text/plain": [
       "     country  Population    Square\n",
       "IND    India      125.04   2724902\n",
       "RU    Russia      143.50  17125191\n",
       "BY   Belarus        9.50    205600\n",
       "UA   Ukraine       45.50    603628"
      ]
     },
     "execution_count": 8,
     "metadata": {},
     "output_type": "execute_result"
    }
   ],
   "source": [
    "#Can do it on creation\n",
    "\n",
    "import pandas as pd\n",
    "\n",
    "df = pd.DataFrame({\"country\":[\"India\",\"Russia\",\"Belarus\",\"Ukraine\"],\n",
    "                  \"Population\":[125.04,143.5,9.5,45.5],\n",
    "                  \"Square\":[2724902,17125191,205600,603628]}, index = [\"IND\",\"RU\",\"BY\",\"UA\"])\n",
    "df"
   ]
  },
  {
   "cell_type": "code",
   "execution_count": 9,
   "metadata": {},
   "outputs": [
    {
     "data": {
      "text/html": [
       "<div>\n",
       "<style scoped>\n",
       "    .dataframe tbody tr th:only-of-type {\n",
       "        vertical-align: middle;\n",
       "    }\n",
       "\n",
       "    .dataframe tbody tr th {\n",
       "        vertical-align: top;\n",
       "    }\n",
       "\n",
       "    .dataframe thead th {\n",
       "        text-align: right;\n",
       "    }\n",
       "</style>\n",
       "<table border=\"1\" class=\"dataframe\">\n",
       "  <thead>\n",
       "    <tr style=\"text-align: right;\">\n",
       "      <th></th>\n",
       "      <th>country</th>\n",
       "      <th>Population</th>\n",
       "      <th>Square</th>\n",
       "    </tr>\n",
       "    <tr>\n",
       "      <th>Country Code</th>\n",
       "      <th></th>\n",
       "      <th></th>\n",
       "      <th></th>\n",
       "    </tr>\n",
       "  </thead>\n",
       "  <tbody>\n",
       "    <tr>\n",
       "      <th>IND</th>\n",
       "      <td>India</td>\n",
       "      <td>125.04</td>\n",
       "      <td>2724902</td>\n",
       "    </tr>\n",
       "    <tr>\n",
       "      <th>RU</th>\n",
       "      <td>Russia</td>\n",
       "      <td>143.50</td>\n",
       "      <td>17125191</td>\n",
       "    </tr>\n",
       "    <tr>\n",
       "      <th>BY</th>\n",
       "      <td>Belarus</td>\n",
       "      <td>9.50</td>\n",
       "      <td>205600</td>\n",
       "    </tr>\n",
       "    <tr>\n",
       "      <th>UA</th>\n",
       "      <td>Ukraine</td>\n",
       "      <td>45.50</td>\n",
       "      <td>603628</td>\n",
       "    </tr>\n",
       "  </tbody>\n",
       "</table>\n",
       "</div>"
      ],
      "text/plain": [
       "              country  Population    Square\n",
       "Country Code                               \n",
       "IND             India      125.04   2724902\n",
       "RU             Russia      143.50  17125191\n",
       "BY            Belarus        9.50    205600\n",
       "UA            Ukraine       45.50    603628"
      ]
     },
     "execution_count": 9,
     "metadata": {},
     "output_type": "execute_result"
    }
   ],
   "source": [
    "#On the fly index creation\n",
    "\n",
    "df.index = [\"IND\",\"RU\",\"BY\",\"UA\"] #Can use any data structure but keep it limited to lists as a standard\n",
    "df.index.name = \"Country Code\"\n",
    "\n",
    "df"
   ]
  },
  {
   "cell_type": "code",
   "execution_count": 10,
   "metadata": {},
   "outputs": [
    {
     "data": {
      "text/plain": [
       "Country Code\n",
       "IND      India\n",
       "RU      Russia\n",
       "BY     Belarus\n",
       "UA     Ukraine\n",
       "Name: country, dtype: object"
      ]
     },
     "execution_count": 10,
     "metadata": {},
     "output_type": "execute_result"
    }
   ],
   "source": [
    "df[\"country\"]"
   ]
  },
  {
   "cell_type": "markdown",
   "metadata": {},
   "source": [
    "# Row access using index\n",
    "\n",
    "1. Using .loc and providing index label\n",
    "2. Using .iloc and providing index number"
   ]
  },
  {
   "cell_type": "code",
   "execution_count": 11,
   "metadata": {},
   "outputs": [
    {
     "data": {
      "text/html": [
       "<div>\n",
       "<style scoped>\n",
       "    .dataframe tbody tr th:only-of-type {\n",
       "        vertical-align: middle;\n",
       "    }\n",
       "\n",
       "    .dataframe tbody tr th {\n",
       "        vertical-align: top;\n",
       "    }\n",
       "\n",
       "    .dataframe thead th {\n",
       "        text-align: right;\n",
       "    }\n",
       "</style>\n",
       "<table border=\"1\" class=\"dataframe\">\n",
       "  <thead>\n",
       "    <tr style=\"text-align: right;\">\n",
       "      <th></th>\n",
       "      <th>country</th>\n",
       "      <th>Population</th>\n",
       "      <th>Square</th>\n",
       "    </tr>\n",
       "  </thead>\n",
       "  <tbody>\n",
       "    <tr>\n",
       "      <th>IND</th>\n",
       "      <td>India</td>\n",
       "      <td>125.04</td>\n",
       "      <td>2724902</td>\n",
       "    </tr>\n",
       "    <tr>\n",
       "      <th>RU</th>\n",
       "      <td>Russia</td>\n",
       "      <td>143.50</td>\n",
       "      <td>17125191</td>\n",
       "    </tr>\n",
       "    <tr>\n",
       "      <th>BY</th>\n",
       "      <td>Belarus</td>\n",
       "      <td>9.50</td>\n",
       "      <td>205600</td>\n",
       "    </tr>\n",
       "    <tr>\n",
       "      <th>UA</th>\n",
       "      <td>Ukraine</td>\n",
       "      <td>45.50</td>\n",
       "      <td>603628</td>\n",
       "    </tr>\n",
       "  </tbody>\n",
       "</table>\n",
       "</div>"
      ],
      "text/plain": [
       "     country  Population    Square\n",
       "IND    India      125.04   2724902\n",
       "RU    Russia      143.50  17125191\n",
       "BY   Belarus        9.50    205600\n",
       "UA   Ukraine       45.50    603628"
      ]
     },
     "execution_count": 11,
     "metadata": {},
     "output_type": "execute_result"
    }
   ],
   "source": [
    "import pandas as pd\n",
    "\n",
    "df = pd.DataFrame({\"country\":[\"India\",\"Russia\",\"Belarus\",\"Ukraine\"],\n",
    "                  \"Population\":[125.04,143.5,9.5,45.5],\n",
    "                  \"Square\":[2724902,17125191,205600,603628]}, index = [\"IND\",\"RU\",\"BY\",\"UA\"])\n",
    "\n",
    "df"
   ]
  },
  {
   "cell_type": "code",
   "execution_count": 12,
   "metadata": {},
   "outputs": [
    {
     "data": {
      "text/plain": [
       "country         India\n",
       "Population     125.04\n",
       "Square        2724902\n",
       "Name: IND, dtype: object"
      ]
     },
     "execution_count": 12,
     "metadata": {},
     "output_type": "execute_result"
    }
   ],
   "source": [
    "df.loc[\"IND\"] #Using index label"
   ]
  },
  {
   "cell_type": "code",
   "execution_count": 13,
   "metadata": {},
   "outputs": [
    {
     "data": {
      "text/plain": [
       "country         India\n",
       "Population     125.04\n",
       "Square        2724902\n",
       "Name: IND, dtype: object"
      ]
     },
     "execution_count": 13,
     "metadata": {},
     "output_type": "execute_result"
    }
   ],
   "source": [
    "df.iloc[0] #Using index number"
   ]
  },
  {
   "cell_type": "code",
   "execution_count": 14,
   "metadata": {},
   "outputs": [
    {
     "data": {
      "text/plain": [
       "IND    125.04\n",
       "RU     143.50\n",
       "Name: Population, dtype: float64"
      ]
     },
     "execution_count": 14,
     "metadata": {},
     "output_type": "execute_result"
    }
   ],
   "source": [
    "df.loc[[\"IND\",\"RU\"],\"Population\"] #Returns columns inparticular, based on index"
   ]
  },
  {
   "cell_type": "code",
   "execution_count": 15,
   "metadata": {},
   "outputs": [
    {
     "data": {
      "text/html": [
       "<div>\n",
       "<style scoped>\n",
       "    .dataframe tbody tr th:only-of-type {\n",
       "        vertical-align: middle;\n",
       "    }\n",
       "\n",
       "    .dataframe tbody tr th {\n",
       "        vertical-align: top;\n",
       "    }\n",
       "\n",
       "    .dataframe thead th {\n",
       "        text-align: right;\n",
       "    }\n",
       "</style>\n",
       "<table border=\"1\" class=\"dataframe\">\n",
       "  <thead>\n",
       "    <tr style=\"text-align: right;\">\n",
       "      <th></th>\n",
       "      <th>Population</th>\n",
       "      <th>Square</th>\n",
       "    </tr>\n",
       "  </thead>\n",
       "  <tbody>\n",
       "    <tr>\n",
       "      <th>IND</th>\n",
       "      <td>125.04</td>\n",
       "      <td>2724902</td>\n",
       "    </tr>\n",
       "    <tr>\n",
       "      <th>RU</th>\n",
       "      <td>143.50</td>\n",
       "      <td>17125191</td>\n",
       "    </tr>\n",
       "  </tbody>\n",
       "</table>\n",
       "</div>"
      ],
      "text/plain": [
       "     Population    Square\n",
       "IND      125.04   2724902\n",
       "RU       143.50  17125191"
      ]
     },
     "execution_count": 15,
     "metadata": {},
     "output_type": "execute_result"
    }
   ],
   "source": [
    "df.loc[[\"IND\",\"RU\"],[\"Population\",\"Square\"]]"
   ]
  },
  {
   "cell_type": "code",
   "execution_count": 16,
   "metadata": {},
   "outputs": [
    {
     "data": {
      "text/html": [
       "<div>\n",
       "<style scoped>\n",
       "    .dataframe tbody tr th:only-of-type {\n",
       "        vertical-align: middle;\n",
       "    }\n",
       "\n",
       "    .dataframe tbody tr th {\n",
       "        vertical-align: top;\n",
       "    }\n",
       "\n",
       "    .dataframe thead th {\n",
       "        text-align: right;\n",
       "    }\n",
       "</style>\n",
       "<table border=\"1\" class=\"dataframe\">\n",
       "  <thead>\n",
       "    <tr style=\"text-align: right;\">\n",
       "      <th></th>\n",
       "      <th>country</th>\n",
       "      <th>Population</th>\n",
       "      <th>Square</th>\n",
       "    </tr>\n",
       "  </thead>\n",
       "  <tbody>\n",
       "    <tr>\n",
       "      <th>IND</th>\n",
       "      <td>India</td>\n",
       "      <td>125.04</td>\n",
       "      <td>2724902</td>\n",
       "    </tr>\n",
       "    <tr>\n",
       "      <th>RU</th>\n",
       "      <td>Russia</td>\n",
       "      <td>143.50</td>\n",
       "      <td>17125191</td>\n",
       "    </tr>\n",
       "    <tr>\n",
       "      <th>BY</th>\n",
       "      <td>Belarus</td>\n",
       "      <td>9.50</td>\n",
       "      <td>205600</td>\n",
       "    </tr>\n",
       "  </tbody>\n",
       "</table>\n",
       "</div>"
      ],
      "text/plain": [
       "     country  Population    Square\n",
       "IND    India      125.04   2724902\n",
       "RU    Russia      143.50  17125191\n",
       "BY   Belarus        9.50    205600"
      ]
     },
     "execution_count": 16,
     "metadata": {},
     "output_type": "execute_result"
    }
   ],
   "source": [
    "df.loc[\"IND\":\"BY\", :]  # [Rows, Columns]"
   ]
  },
  {
   "cell_type": "code",
   "execution_count": 17,
   "metadata": {},
   "outputs": [
    {
     "data": {
      "text/html": [
       "<div>\n",
       "<style scoped>\n",
       "    .dataframe tbody tr th:only-of-type {\n",
       "        vertical-align: middle;\n",
       "    }\n",
       "\n",
       "    .dataframe tbody tr th {\n",
       "        vertical-align: top;\n",
       "    }\n",
       "\n",
       "    .dataframe thead th {\n",
       "        text-align: right;\n",
       "    }\n",
       "</style>\n",
       "<table border=\"1\" class=\"dataframe\">\n",
       "  <thead>\n",
       "    <tr style=\"text-align: right;\">\n",
       "      <th></th>\n",
       "      <th>country</th>\n",
       "      <th>Square</th>\n",
       "    </tr>\n",
       "  </thead>\n",
       "  <tbody>\n",
       "    <tr>\n",
       "      <th>IND</th>\n",
       "      <td>India</td>\n",
       "      <td>2724902</td>\n",
       "    </tr>\n",
       "    <tr>\n",
       "      <th>RU</th>\n",
       "      <td>Russia</td>\n",
       "      <td>17125191</td>\n",
       "    </tr>\n",
       "    <tr>\n",
       "      <th>UA</th>\n",
       "      <td>Ukraine</td>\n",
       "      <td>603628</td>\n",
       "    </tr>\n",
       "  </tbody>\n",
       "</table>\n",
       "</div>"
      ],
      "text/plain": [
       "     country    Square\n",
       "IND    India   2724902\n",
       "RU    Russia  17125191\n",
       "UA   Ukraine    603628"
      ]
     },
     "execution_count": 17,
     "metadata": {},
     "output_type": "execute_result"
    }
   ],
   "source": [
    "#Filtering using boolean arrays\n",
    "\n",
    "df[df.Population>10][[\"country\",\"Square\"]]"
   ]
  },
  {
   "cell_type": "code",
   "execution_count": 18,
   "metadata": {},
   "outputs": [
    {
     "data": {
      "text/plain": [
       "IND     True\n",
       "RU      True\n",
       "BY     False\n",
       "UA      True\n",
       "Name: Population, dtype: bool"
      ]
     },
     "execution_count": 18,
     "metadata": {},
     "output_type": "execute_result"
    }
   ],
   "source": [
    "#Getting a boolean array\n",
    "\n",
    "df.Population>10"
   ]
  },
  {
   "cell_type": "code",
   "execution_count": 19,
   "metadata": {},
   "outputs": [
    {
     "data": {
      "text/html": [
       "<div>\n",
       "<style scoped>\n",
       "    .dataframe tbody tr th:only-of-type {\n",
       "        vertical-align: middle;\n",
       "    }\n",
       "\n",
       "    .dataframe tbody tr th {\n",
       "        vertical-align: top;\n",
       "    }\n",
       "\n",
       "    .dataframe thead th {\n",
       "        text-align: right;\n",
       "    }\n",
       "</style>\n",
       "<table border=\"1\" class=\"dataframe\">\n",
       "  <thead>\n",
       "    <tr style=\"text-align: right;\">\n",
       "      <th></th>\n",
       "      <th>country</th>\n",
       "      <th>Population</th>\n",
       "      <th>Square</th>\n",
       "    </tr>\n",
       "  </thead>\n",
       "  <tbody>\n",
       "    <tr>\n",
       "      <th>IND</th>\n",
       "      <td>India</td>\n",
       "      <td>125.04</td>\n",
       "      <td>2724902</td>\n",
       "    </tr>\n",
       "    <tr>\n",
       "      <th>RU</th>\n",
       "      <td>Russia</td>\n",
       "      <td>143.50</td>\n",
       "      <td>17125191</td>\n",
       "    </tr>\n",
       "    <tr>\n",
       "      <th>UA</th>\n",
       "      <td>Ukraine</td>\n",
       "      <td>45.50</td>\n",
       "      <td>603628</td>\n",
       "    </tr>\n",
       "  </tbody>\n",
       "</table>\n",
       "</div>"
      ],
      "text/plain": [
       "     country  Population    Square\n",
       "IND    India      125.04   2724902\n",
       "RU    Russia      143.50  17125191\n",
       "UA   Ukraine       45.50    603628"
      ]
     },
     "execution_count": 19,
     "metadata": {},
     "output_type": "execute_result"
    }
   ],
   "source": [
    "#Using the above boolean array as index\n",
    "\n",
    "df[df.Population>10]"
   ]
  },
  {
   "cell_type": "code",
   "execution_count": 20,
   "metadata": {},
   "outputs": [
    {
     "data": {
      "text/html": [
       "<div>\n",
       "<style scoped>\n",
       "    .dataframe tbody tr th:only-of-type {\n",
       "        vertical-align: middle;\n",
       "    }\n",
       "\n",
       "    .dataframe tbody tr th {\n",
       "        vertical-align: top;\n",
       "    }\n",
       "\n",
       "    .dataframe thead th {\n",
       "        text-align: right;\n",
       "    }\n",
       "</style>\n",
       "<table border=\"1\" class=\"dataframe\">\n",
       "  <thead>\n",
       "    <tr style=\"text-align: right;\">\n",
       "      <th></th>\n",
       "      <th>index</th>\n",
       "      <th>country</th>\n",
       "      <th>Population</th>\n",
       "      <th>Square</th>\n",
       "    </tr>\n",
       "  </thead>\n",
       "  <tbody>\n",
       "    <tr>\n",
       "      <th>0</th>\n",
       "      <td>IND</td>\n",
       "      <td>India</td>\n",
       "      <td>125.04</td>\n",
       "      <td>2724902</td>\n",
       "    </tr>\n",
       "    <tr>\n",
       "      <th>1</th>\n",
       "      <td>RU</td>\n",
       "      <td>Russia</td>\n",
       "      <td>143.50</td>\n",
       "      <td>17125191</td>\n",
       "    </tr>\n",
       "    <tr>\n",
       "      <th>2</th>\n",
       "      <td>BY</td>\n",
       "      <td>Belarus</td>\n",
       "      <td>9.50</td>\n",
       "      <td>205600</td>\n",
       "    </tr>\n",
       "    <tr>\n",
       "      <th>3</th>\n",
       "      <td>UA</td>\n",
       "      <td>Ukraine</td>\n",
       "      <td>45.50</td>\n",
       "      <td>603628</td>\n",
       "    </tr>\n",
       "  </tbody>\n",
       "</table>\n",
       "</div>"
      ],
      "text/plain": [
       "  index  country  Population    Square\n",
       "0   IND    India      125.04   2724902\n",
       "1    RU   Russia      143.50  17125191\n",
       "2    BY  Belarus        9.50    205600\n",
       "3    UA  Ukraine       45.50    603628"
      ]
     },
     "execution_count": 20,
     "metadata": {},
     "output_type": "execute_result"
    }
   ],
   "source": [
    "#Resetting index\n",
    "\n",
    "df.reset_index()"
   ]
  },
  {
   "cell_type": "markdown",
   "metadata": {},
   "source": [
    "When you manipulate a Dataframe, pandas will return a new instance"
   ]
  },
  {
   "cell_type": "code",
   "execution_count": 21,
   "metadata": {},
   "outputs": [
    {
     "data": {
      "text/html": [
       "<div>\n",
       "<style scoped>\n",
       "    .dataframe tbody tr th:only-of-type {\n",
       "        vertical-align: middle;\n",
       "    }\n",
       "\n",
       "    .dataframe tbody tr th {\n",
       "        vertical-align: top;\n",
       "    }\n",
       "\n",
       "    .dataframe thead th {\n",
       "        text-align: right;\n",
       "    }\n",
       "</style>\n",
       "<table border=\"1\" class=\"dataframe\">\n",
       "  <thead>\n",
       "    <tr style=\"text-align: right;\">\n",
       "      <th></th>\n",
       "      <th>country</th>\n",
       "      <th>Population</th>\n",
       "      <th>Square</th>\n",
       "      <th>Density</th>\n",
       "    </tr>\n",
       "  </thead>\n",
       "  <tbody>\n",
       "    <tr>\n",
       "      <th>IND</th>\n",
       "      <td>India</td>\n",
       "      <td>125.04</td>\n",
       "      <td>2724902</td>\n",
       "      <td>45.887889</td>\n",
       "    </tr>\n",
       "    <tr>\n",
       "      <th>RU</th>\n",
       "      <td>Russia</td>\n",
       "      <td>143.50</td>\n",
       "      <td>17125191</td>\n",
       "      <td>8.379469</td>\n",
       "    </tr>\n",
       "    <tr>\n",
       "      <th>BY</th>\n",
       "      <td>Belarus</td>\n",
       "      <td>9.50</td>\n",
       "      <td>205600</td>\n",
       "      <td>46.206226</td>\n",
       "    </tr>\n",
       "    <tr>\n",
       "      <th>UA</th>\n",
       "      <td>Ukraine</td>\n",
       "      <td>45.50</td>\n",
       "      <td>603628</td>\n",
       "      <td>75.377550</td>\n",
       "    </tr>\n",
       "  </tbody>\n",
       "</table>\n",
       "</div>"
      ],
      "text/plain": [
       "     country  Population    Square    Density\n",
       "IND    India      125.04   2724902  45.887889\n",
       "RU    Russia      143.50  17125191   8.379469\n",
       "BY   Belarus        9.50    205600  46.206226\n",
       "UA   Ukraine       45.50    603628  75.377550"
      ]
     },
     "execution_count": 21,
     "metadata": {},
     "output_type": "execute_result"
    }
   ],
   "source": [
    "#Adding a new column of Density using equation\n",
    "\n",
    "df[\"Density\"] = df[\"Population\"] / df[\"Square\"] * 1000000\n",
    "\n",
    "df"
   ]
  },
  {
   "cell_type": "code",
   "execution_count": 22,
   "metadata": {},
   "outputs": [
    {
     "data": {
      "text/html": [
       "<div>\n",
       "<style scoped>\n",
       "    .dataframe tbody tr th:only-of-type {\n",
       "        vertical-align: middle;\n",
       "    }\n",
       "\n",
       "    .dataframe tbody tr th {\n",
       "        vertical-align: top;\n",
       "    }\n",
       "\n",
       "    .dataframe thead th {\n",
       "        text-align: right;\n",
       "    }\n",
       "</style>\n",
       "<table border=\"1\" class=\"dataframe\">\n",
       "  <thead>\n",
       "    <tr style=\"text-align: right;\">\n",
       "      <th></th>\n",
       "      <th>country</th>\n",
       "      <th>Population</th>\n",
       "      <th>Square</th>\n",
       "    </tr>\n",
       "  </thead>\n",
       "  <tbody>\n",
       "    <tr>\n",
       "      <th>IND</th>\n",
       "      <td>India</td>\n",
       "      <td>125.04</td>\n",
       "      <td>2724902</td>\n",
       "    </tr>\n",
       "    <tr>\n",
       "      <th>RU</th>\n",
       "      <td>Russia</td>\n",
       "      <td>143.50</td>\n",
       "      <td>17125191</td>\n",
       "    </tr>\n",
       "    <tr>\n",
       "      <th>BY</th>\n",
       "      <td>Belarus</td>\n",
       "      <td>9.50</td>\n",
       "      <td>205600</td>\n",
       "    </tr>\n",
       "    <tr>\n",
       "      <th>UA</th>\n",
       "      <td>Ukraine</td>\n",
       "      <td>45.50</td>\n",
       "      <td>603628</td>\n",
       "    </tr>\n",
       "  </tbody>\n",
       "</table>\n",
       "</div>"
      ],
      "text/plain": [
       "     country  Population    Square\n",
       "IND    India      125.04   2724902\n",
       "RU    Russia      143.50  17125191\n",
       "BY   Belarus        9.50    205600\n",
       "UA   Ukraine       45.50    603628"
      ]
     },
     "execution_count": 22,
     "metadata": {},
     "output_type": "execute_result"
    }
   ],
   "source": [
    "#Delete columns using drop\n",
    "\n",
    "df.drop([\"Density\"], axis=\"columns\")"
   ]
  },
  {
   "cell_type": "code",
   "execution_count": 23,
   "metadata": {},
   "outputs": [
    {
     "data": {
      "text/html": [
       "<div>\n",
       "<style scoped>\n",
       "    .dataframe tbody tr th:only-of-type {\n",
       "        vertical-align: middle;\n",
       "    }\n",
       "\n",
       "    .dataframe tbody tr th {\n",
       "        vertical-align: top;\n",
       "    }\n",
       "\n",
       "    .dataframe thead th {\n",
       "        text-align: right;\n",
       "    }\n",
       "</style>\n",
       "<table border=\"1\" class=\"dataframe\">\n",
       "  <thead>\n",
       "    <tr style=\"text-align: right;\">\n",
       "      <th></th>\n",
       "      <th>Country</th>\n",
       "      <th>Population</th>\n",
       "      <th>Square</th>\n",
       "      <th>Density</th>\n",
       "    </tr>\n",
       "  </thead>\n",
       "  <tbody>\n",
       "    <tr>\n",
       "      <th>IND</th>\n",
       "      <td>India</td>\n",
       "      <td>125.04</td>\n",
       "      <td>2724902</td>\n",
       "      <td>45.887889</td>\n",
       "    </tr>\n",
       "    <tr>\n",
       "      <th>RU</th>\n",
       "      <td>Russia</td>\n",
       "      <td>143.50</td>\n",
       "      <td>17125191</td>\n",
       "      <td>8.379469</td>\n",
       "    </tr>\n",
       "    <tr>\n",
       "      <th>BY</th>\n",
       "      <td>Belarus</td>\n",
       "      <td>9.50</td>\n",
       "      <td>205600</td>\n",
       "      <td>46.206226</td>\n",
       "    </tr>\n",
       "    <tr>\n",
       "      <th>UA</th>\n",
       "      <td>Ukraine</td>\n",
       "      <td>45.50</td>\n",
       "      <td>603628</td>\n",
       "      <td>75.377550</td>\n",
       "    </tr>\n",
       "  </tbody>\n",
       "</table>\n",
       "</div>"
      ],
      "text/plain": [
       "     Country  Population    Square    Density\n",
       "IND    India      125.04   2724902  45.887889\n",
       "RU    Russia      143.50  17125191   8.379469\n",
       "BY   Belarus        9.50    205600  46.206226\n",
       "UA   Ukraine       45.50    603628  75.377550"
      ]
     },
     "execution_count": 23,
     "metadata": {},
     "output_type": "execute_result"
    }
   ],
   "source": [
    "df = df.rename(columns = {\"country\":\"Country\"})\n",
    "\n",
    "df"
   ]
  },
  {
   "cell_type": "markdown",
   "metadata": {},
   "source": [
    "# Concatenating DataFrames\n",
    "A Data frame is a two-dimensional data structure, i.e., data is aligned in a tabular fashion in rows and columns. We can join, merge, and concat dataframe using different methods. In Dataframe df.merge(), df.join() and df.concat() methods help in joining, merging and concating different dataframe."
   ]
  },
  {
   "cell_type": "raw",
   "metadata": {},
   "source": [
    "In order to concat dataframe, we use concat() function which helps in concatenating a dataframe. We can concat a dataframe in many different ways, they are:\n",
    "\n",
    "1- Concatenating DataFrame using .concat()\n",
    "2- Concatenating DataFrame by setting logic on axes\n",
    "3- Concatenating DataFrame using .append()\n",
    "4- Concatenating DataFrame by ignoring indexes\n",
    "5- Concatenating DataFrame with group keys\n",
    "6- Concatenating with mixed ndims"
   ]
  },
  {
   "cell_type": "code",
   "execution_count": 24,
   "metadata": {},
   "outputs": [
    {
     "name": "stdout",
     "output_type": "stream",
     "text": [
      "     Name  Age   Address Qualification\n",
      "1   Rahul   21     Noxus      Assassin\n",
      "2  Princi   22     Ionia       Bruiser\n",
      "3  Gaurav   23  Freljord      Marksman\n",
      "4    Anuj   24   Demacia          Tank\n",
      "\n",
      "\n",
      "\n",
      "     Name  Age  Address Qualification\n",
      "5   Talon   25  Shurima       Support\n",
      "6     Zed   26   Targon           Mid\n",
      "7   Quinn   27  Icathia       Jungler\n",
      "8  Kennen   28    Isles           ADC\n"
     ]
    }
   ],
   "source": [
    "import pandas as pd\n",
    "\n",
    "data1 = {\"Name\":[\"Rahul\",\"Princi\",\"Gaurav\",\"Anuj\"],\n",
    "        \"Age\":[21,22,23,24],\n",
    "        \"Address\":[\"Noxus\",\"Ionia\",\"Freljord\",\"Demacia\"],\n",
    "        \"Qualification\":[\"Assassin\",\"Bruiser\",\"Marksman\",\"Tank\"]}\n",
    "\n",
    "data2 = {\"Name\":[\"Talon\",\"Zed\",\"Quinn\",\"Kennen\"],\n",
    "        \"Age\":[25,26,27,28],\n",
    "        \"Address\":[\"Shurima\",\"Targon\",\"Icathia\",\"Isles\"],\n",
    "        \"Qualification\":[\"Support\",\"Mid\",\"Jungler\",\"ADC\"]}\n",
    "\n",
    "df1 = pd.DataFrame(data1, index=[1,2,3,4])\n",
    "\n",
    "df2 = pd.DataFrame(data2, index=[5,6,7,8])\n",
    "\n",
    "print(df1)\n",
    "print(\"\\n\\n\")\n",
    "print(df2)"
   ]
  },
  {
   "cell_type": "markdown",
   "metadata": {},
   "source": [
    "Now we apply .concat function to concatenate two dataframes"
   ]
  },
  {
   "cell_type": "code",
   "execution_count": 25,
   "metadata": {},
   "outputs": [
    {
     "data": {
      "text/html": [
       "<div>\n",
       "<style scoped>\n",
       "    .dataframe tbody tr th:only-of-type {\n",
       "        vertical-align: middle;\n",
       "    }\n",
       "\n",
       "    .dataframe tbody tr th {\n",
       "        vertical-align: top;\n",
       "    }\n",
       "\n",
       "    .dataframe thead th {\n",
       "        text-align: right;\n",
       "    }\n",
       "</style>\n",
       "<table border=\"1\" class=\"dataframe\">\n",
       "  <thead>\n",
       "    <tr style=\"text-align: right;\">\n",
       "      <th></th>\n",
       "      <th>Name</th>\n",
       "      <th>Age</th>\n",
       "      <th>Address</th>\n",
       "      <th>Qualification</th>\n",
       "    </tr>\n",
       "  </thead>\n",
       "  <tbody>\n",
       "    <tr>\n",
       "      <th>1</th>\n",
       "      <td>Rahul</td>\n",
       "      <td>21</td>\n",
       "      <td>Noxus</td>\n",
       "      <td>Assassin</td>\n",
       "    </tr>\n",
       "    <tr>\n",
       "      <th>2</th>\n",
       "      <td>Princi</td>\n",
       "      <td>22</td>\n",
       "      <td>Ionia</td>\n",
       "      <td>Bruiser</td>\n",
       "    </tr>\n",
       "    <tr>\n",
       "      <th>3</th>\n",
       "      <td>Gaurav</td>\n",
       "      <td>23</td>\n",
       "      <td>Freljord</td>\n",
       "      <td>Marksman</td>\n",
       "    </tr>\n",
       "    <tr>\n",
       "      <th>4</th>\n",
       "      <td>Anuj</td>\n",
       "      <td>24</td>\n",
       "      <td>Demacia</td>\n",
       "      <td>Tank</td>\n",
       "    </tr>\n",
       "    <tr>\n",
       "      <th>5</th>\n",
       "      <td>Talon</td>\n",
       "      <td>25</td>\n",
       "      <td>Shurima</td>\n",
       "      <td>Support</td>\n",
       "    </tr>\n",
       "    <tr>\n",
       "      <th>6</th>\n",
       "      <td>Zed</td>\n",
       "      <td>26</td>\n",
       "      <td>Targon</td>\n",
       "      <td>Mid</td>\n",
       "    </tr>\n",
       "    <tr>\n",
       "      <th>7</th>\n",
       "      <td>Quinn</td>\n",
       "      <td>27</td>\n",
       "      <td>Icathia</td>\n",
       "      <td>Jungler</td>\n",
       "    </tr>\n",
       "    <tr>\n",
       "      <th>8</th>\n",
       "      <td>Kennen</td>\n",
       "      <td>28</td>\n",
       "      <td>Isles</td>\n",
       "      <td>ADC</td>\n",
       "    </tr>\n",
       "  </tbody>\n",
       "</table>\n",
       "</div>"
      ],
      "text/plain": [
       "     Name  Age   Address Qualification\n",
       "1   Rahul   21     Noxus      Assassin\n",
       "2  Princi   22     Ionia       Bruiser\n",
       "3  Gaurav   23  Freljord      Marksman\n",
       "4    Anuj   24   Demacia          Tank\n",
       "5   Talon   25   Shurima       Support\n",
       "6     Zed   26    Targon           Mid\n",
       "7   Quinn   27   Icathia       Jungler\n",
       "8  Kennen   28     Isles           ADC"
      ]
     },
     "execution_count": 25,
     "metadata": {},
     "output_type": "execute_result"
    }
   ],
   "source": [
    "frames = [df1,df2]\n",
    "\n",
    "dfc = pd.concat(frames)\n",
    "dfc"
   ]
  },
  {
   "cell_type": "markdown",
   "metadata": {},
   "source": [
    "# Concat using logics on axes\n",
    "\n",
    "In order to concat dataframe, we have to set different logic on axes. We can set axes in the following three ways:\n",
    "\n",
    "1- Taking the union of them all, join='outer'. This is the default option as it    results in zero information loss.\n",
    "\n",
    "2- Taking the intersection, join='inner'.\n",
    "\n",
    "3- Use a specific index, as passed to the join_axes argument"
   ]
  },
  {
   "cell_type": "code",
   "execution_count": 26,
   "metadata": {},
   "outputs": [
    {
     "name": "stdout",
     "output_type": "stream",
     "text": [
      "     Name  Age   Address Qualification  Mobile number\n",
      "1   Rahul   21     Noxus      Assassin       12345678\n",
      "2  Princi   22     Ionia       Bruiser       12345678\n",
      "3  Gaurav   23  Freljord      Marksman       12345678\n",
      "4    Anuj   24   Demacia          Tank       12345678\n",
      "\n",
      "\n",
      "\n",
      "     Name  Age  Address Qualification  Salary\n",
      "5   Talon   25  Shurima       Support   12000\n",
      "6     Zed   26   Targon           Mid   22000\n",
      "7   Quinn   27  Icathia       Jungler   32000\n",
      "8  Kennen   28    Isles           ADC   42000\n"
     ]
    }
   ],
   "source": [
    "import pandas as pd\n",
    "\n",
    "data1 = {\"Name\":[\"Rahul\",\"Princi\",\"Gaurav\",\"Anuj\"],\n",
    "        \"Age\":[21,22,23,24],\n",
    "        \"Address\":[\"Noxus\",\"Ionia\",\"Freljord\",\"Demacia\"],\n",
    "        \"Qualification\":[\"Assassin\",\"Bruiser\",\"Marksman\",\"Tank\"],\n",
    "        \"Mobile number\":[12345678,12345678,12345678,12345678]}\n",
    "\n",
    "data2 = {\"Name\":[\"Talon\",\"Zed\",\"Quinn\",\"Kennen\"],\n",
    "        \"Age\":[25,26,27,28],\n",
    "        \"Address\":[\"Shurima\",\"Targon\",\"Icathia\",\"Isles\"],\n",
    "        \"Qualification\":[\"Support\",\"Mid\",\"Jungler\",\"ADC\"],\n",
    "        \"Salary\":[12000,22000,32000,42000]}\n",
    "\n",
    "df1 = pd.DataFrame(data1, index=[1,2,3,4])\n",
    "\n",
    "df2 = pd.DataFrame(data2, index=[5,6,7,8])\n",
    "\n",
    "print(df1)\n",
    "print(\"\\n\\n\")\n",
    "print(df2)"
   ]
  },
  {
   "cell_type": "code",
   "execution_count": 27,
   "metadata": {},
   "outputs": [
    {
     "data": {
      "text/html": [
       "<div>\n",
       "<style scoped>\n",
       "    .dataframe tbody tr th:only-of-type {\n",
       "        vertical-align: middle;\n",
       "    }\n",
       "\n",
       "    .dataframe tbody tr th {\n",
       "        vertical-align: top;\n",
       "    }\n",
       "\n",
       "    .dataframe thead th {\n",
       "        text-align: right;\n",
       "    }\n",
       "</style>\n",
       "<table border=\"1\" class=\"dataframe\">\n",
       "  <thead>\n",
       "    <tr style=\"text-align: right;\">\n",
       "      <th></th>\n",
       "      <th>Name</th>\n",
       "      <th>Age</th>\n",
       "      <th>Address</th>\n",
       "      <th>Qualification</th>\n",
       "      <th>Mobile number</th>\n",
       "      <th>Name</th>\n",
       "      <th>Age</th>\n",
       "      <th>Address</th>\n",
       "      <th>Qualification</th>\n",
       "      <th>Salary</th>\n",
       "    </tr>\n",
       "  </thead>\n",
       "  <tbody>\n",
       "  </tbody>\n",
       "</table>\n",
       "</div>"
      ],
      "text/plain": [
       "Empty DataFrame\n",
       "Columns: [Name, Age, Address, Qualification, Mobile number, Name, Age, Address, Qualification, Salary]\n",
       "Index: []"
      ]
     },
     "execution_count": 27,
     "metadata": {},
     "output_type": "execute_result"
    }
   ],
   "source": [
    "#Joining axes with join = inner for intersection of dataframes\n",
    "\n",
    "dfi = pd.concat([df1,df2], axis=1, join=\"inner\")\n",
    "\n",
    "dfi"
   ]
  },
  {
   "cell_type": "code",
   "execution_count": 28,
   "metadata": {},
   "outputs": [
    {
     "data": {
      "text/html": [
       "<div>\n",
       "<style scoped>\n",
       "    .dataframe tbody tr th:only-of-type {\n",
       "        vertical-align: middle;\n",
       "    }\n",
       "\n",
       "    .dataframe tbody tr th {\n",
       "        vertical-align: top;\n",
       "    }\n",
       "\n",
       "    .dataframe thead th {\n",
       "        text-align: right;\n",
       "    }\n",
       "</style>\n",
       "<table border=\"1\" class=\"dataframe\">\n",
       "  <thead>\n",
       "    <tr style=\"text-align: right;\">\n",
       "      <th></th>\n",
       "      <th>Name</th>\n",
       "      <th>Age</th>\n",
       "      <th>Address</th>\n",
       "      <th>Qualification</th>\n",
       "      <th>Mobile number</th>\n",
       "      <th>Name</th>\n",
       "      <th>Age</th>\n",
       "      <th>Address</th>\n",
       "      <th>Qualification</th>\n",
       "      <th>Salary</th>\n",
       "    </tr>\n",
       "  </thead>\n",
       "  <tbody>\n",
       "    <tr>\n",
       "      <th>1</th>\n",
       "      <td>Rahul</td>\n",
       "      <td>21.0</td>\n",
       "      <td>Noxus</td>\n",
       "      <td>Assassin</td>\n",
       "      <td>12345678.0</td>\n",
       "      <td>NaN</td>\n",
       "      <td>NaN</td>\n",
       "      <td>NaN</td>\n",
       "      <td>NaN</td>\n",
       "      <td>NaN</td>\n",
       "    </tr>\n",
       "    <tr>\n",
       "      <th>2</th>\n",
       "      <td>Princi</td>\n",
       "      <td>22.0</td>\n",
       "      <td>Ionia</td>\n",
       "      <td>Bruiser</td>\n",
       "      <td>12345678.0</td>\n",
       "      <td>NaN</td>\n",
       "      <td>NaN</td>\n",
       "      <td>NaN</td>\n",
       "      <td>NaN</td>\n",
       "      <td>NaN</td>\n",
       "    </tr>\n",
       "    <tr>\n",
       "      <th>3</th>\n",
       "      <td>Gaurav</td>\n",
       "      <td>23.0</td>\n",
       "      <td>Freljord</td>\n",
       "      <td>Marksman</td>\n",
       "      <td>12345678.0</td>\n",
       "      <td>NaN</td>\n",
       "      <td>NaN</td>\n",
       "      <td>NaN</td>\n",
       "      <td>NaN</td>\n",
       "      <td>NaN</td>\n",
       "    </tr>\n",
       "    <tr>\n",
       "      <th>4</th>\n",
       "      <td>Anuj</td>\n",
       "      <td>24.0</td>\n",
       "      <td>Demacia</td>\n",
       "      <td>Tank</td>\n",
       "      <td>12345678.0</td>\n",
       "      <td>NaN</td>\n",
       "      <td>NaN</td>\n",
       "      <td>NaN</td>\n",
       "      <td>NaN</td>\n",
       "      <td>NaN</td>\n",
       "    </tr>\n",
       "    <tr>\n",
       "      <th>5</th>\n",
       "      <td>NaN</td>\n",
       "      <td>NaN</td>\n",
       "      <td>NaN</td>\n",
       "      <td>NaN</td>\n",
       "      <td>NaN</td>\n",
       "      <td>Talon</td>\n",
       "      <td>25.0</td>\n",
       "      <td>Shurima</td>\n",
       "      <td>Support</td>\n",
       "      <td>12000.0</td>\n",
       "    </tr>\n",
       "    <tr>\n",
       "      <th>6</th>\n",
       "      <td>NaN</td>\n",
       "      <td>NaN</td>\n",
       "      <td>NaN</td>\n",
       "      <td>NaN</td>\n",
       "      <td>NaN</td>\n",
       "      <td>Zed</td>\n",
       "      <td>26.0</td>\n",
       "      <td>Targon</td>\n",
       "      <td>Mid</td>\n",
       "      <td>22000.0</td>\n",
       "    </tr>\n",
       "    <tr>\n",
       "      <th>7</th>\n",
       "      <td>NaN</td>\n",
       "      <td>NaN</td>\n",
       "      <td>NaN</td>\n",
       "      <td>NaN</td>\n",
       "      <td>NaN</td>\n",
       "      <td>Quinn</td>\n",
       "      <td>27.0</td>\n",
       "      <td>Icathia</td>\n",
       "      <td>Jungler</td>\n",
       "      <td>32000.0</td>\n",
       "    </tr>\n",
       "    <tr>\n",
       "      <th>8</th>\n",
       "      <td>NaN</td>\n",
       "      <td>NaN</td>\n",
       "      <td>NaN</td>\n",
       "      <td>NaN</td>\n",
       "      <td>NaN</td>\n",
       "      <td>Kennen</td>\n",
       "      <td>28.0</td>\n",
       "      <td>Isles</td>\n",
       "      <td>ADC</td>\n",
       "      <td>42000.0</td>\n",
       "    </tr>\n",
       "  </tbody>\n",
       "</table>\n",
       "</div>"
      ],
      "text/plain": [
       "     Name   Age   Address Qualification  Mobile number    Name   Age  Address  \\\n",
       "1   Rahul  21.0     Noxus      Assassin     12345678.0     NaN   NaN      NaN   \n",
       "2  Princi  22.0     Ionia       Bruiser     12345678.0     NaN   NaN      NaN   \n",
       "3  Gaurav  23.0  Freljord      Marksman     12345678.0     NaN   NaN      NaN   \n",
       "4    Anuj  24.0   Demacia          Tank     12345678.0     NaN   NaN      NaN   \n",
       "5     NaN   NaN       NaN           NaN            NaN   Talon  25.0  Shurima   \n",
       "6     NaN   NaN       NaN           NaN            NaN     Zed  26.0   Targon   \n",
       "7     NaN   NaN       NaN           NaN            NaN   Quinn  27.0  Icathia   \n",
       "8     NaN   NaN       NaN           NaN            NaN  Kennen  28.0    Isles   \n",
       "\n",
       "  Qualification   Salary  \n",
       "1           NaN      NaN  \n",
       "2           NaN      NaN  \n",
       "3           NaN      NaN  \n",
       "4           NaN      NaN  \n",
       "5       Support  12000.0  \n",
       "6           Mid  22000.0  \n",
       "7       Jungler  32000.0  \n",
       "8           ADC  42000.0  "
      ]
     },
     "execution_count": 28,
     "metadata": {},
     "output_type": "execute_result"
    }
   ],
   "source": [
    "# join = outer for union of dataframes\n",
    "\n",
    "dfu = pd.concat([df1,df2], axis=1, join=\"outer\")\n",
    "\n",
    "dfu"
   ]
  },
  {
   "cell_type": "code",
   "execution_count": 29,
   "metadata": {},
   "outputs": [
    {
     "data": {
      "text/html": [
       "<div>\n",
       "<style scoped>\n",
       "    .dataframe tbody tr th:only-of-type {\n",
       "        vertical-align: middle;\n",
       "    }\n",
       "\n",
       "    .dataframe tbody tr th {\n",
       "        vertical-align: top;\n",
       "    }\n",
       "\n",
       "    .dataframe thead th {\n",
       "        text-align: right;\n",
       "    }\n",
       "</style>\n",
       "<table border=\"1\" class=\"dataframe\">\n",
       "  <thead>\n",
       "    <tr style=\"text-align: right;\">\n",
       "      <th></th>\n",
       "      <th>Name</th>\n",
       "      <th>Age</th>\n",
       "      <th>Address</th>\n",
       "      <th>Qualification</th>\n",
       "      <th>Mobile number</th>\n",
       "      <th>Name</th>\n",
       "      <th>Age</th>\n",
       "      <th>Address</th>\n",
       "      <th>Qualification</th>\n",
       "      <th>Salary</th>\n",
       "    </tr>\n",
       "  </thead>\n",
       "  <tbody>\n",
       "    <tr>\n",
       "      <th>1</th>\n",
       "      <td>Rahul</td>\n",
       "      <td>21</td>\n",
       "      <td>Noxus</td>\n",
       "      <td>Assassin</td>\n",
       "      <td>12345678</td>\n",
       "      <td>NaN</td>\n",
       "      <td>NaN</td>\n",
       "      <td>NaN</td>\n",
       "      <td>NaN</td>\n",
       "      <td>NaN</td>\n",
       "    </tr>\n",
       "    <tr>\n",
       "      <th>2</th>\n",
       "      <td>Princi</td>\n",
       "      <td>22</td>\n",
       "      <td>Ionia</td>\n",
       "      <td>Bruiser</td>\n",
       "      <td>12345678</td>\n",
       "      <td>NaN</td>\n",
       "      <td>NaN</td>\n",
       "      <td>NaN</td>\n",
       "      <td>NaN</td>\n",
       "      <td>NaN</td>\n",
       "    </tr>\n",
       "    <tr>\n",
       "      <th>3</th>\n",
       "      <td>Gaurav</td>\n",
       "      <td>23</td>\n",
       "      <td>Freljord</td>\n",
       "      <td>Marksman</td>\n",
       "      <td>12345678</td>\n",
       "      <td>NaN</td>\n",
       "      <td>NaN</td>\n",
       "      <td>NaN</td>\n",
       "      <td>NaN</td>\n",
       "      <td>NaN</td>\n",
       "    </tr>\n",
       "    <tr>\n",
       "      <th>4</th>\n",
       "      <td>Anuj</td>\n",
       "      <td>24</td>\n",
       "      <td>Demacia</td>\n",
       "      <td>Tank</td>\n",
       "      <td>12345678</td>\n",
       "      <td>NaN</td>\n",
       "      <td>NaN</td>\n",
       "      <td>NaN</td>\n",
       "      <td>NaN</td>\n",
       "      <td>NaN</td>\n",
       "    </tr>\n",
       "  </tbody>\n",
       "</table>\n",
       "</div>"
      ],
      "text/plain": [
       "     Name  Age   Address Qualification  Mobile number Name  Age Address  \\\n",
       "1   Rahul   21     Noxus      Assassin       12345678  NaN  NaN     NaN   \n",
       "2  Princi   22     Ionia       Bruiser       12345678  NaN  NaN     NaN   \n",
       "3  Gaurav   23  Freljord      Marksman       12345678  NaN  NaN     NaN   \n",
       "4    Anuj   24   Demacia          Tank       12345678  NaN  NaN     NaN   \n",
       "\n",
       "  Qualification  Salary  \n",
       "1           NaN     NaN  \n",
       "2           NaN     NaN  \n",
       "3           NaN     NaN  \n",
       "4           NaN     NaN  "
      ]
     },
     "execution_count": 29,
     "metadata": {},
     "output_type": "execute_result"
    }
   ],
   "source": [
    "#Using join_axes to return a specific index\n",
    "\n",
    "dfind = pd.concat([df1,df2], axis=1, join_axes=[df1.index]) #returns a union filtered with the index of df1\n",
    "\n",
    "dfind"
   ]
  },
  {
   "cell_type": "markdown",
   "metadata": {},
   "source": [
    "# Concatenating dataframes using append"
   ]
  },
  {
   "cell_type": "markdown",
   "metadata": {},
   "source": [
    "In order to concat a dataframe, we use .append() function this function concatenate along axis=0, namely the index. This function exist before .concat()"
   ]
  },
  {
   "cell_type": "code",
   "execution_count": 11,
   "metadata": {},
   "outputs": [
    {
     "name": "stdout",
     "output_type": "stream",
     "text": [
      "     Name  Age   Address Qualification\n",
      "1   Rahul   21     Noxus      Assassin\n",
      "2  Princi   22     Ionia       Bruiser\n",
      "3  Gaurav   23  Freljord      Marksman\n",
      "4    Anuj   24   Demacia          Tank\n",
      "\n",
      "\n",
      "\n",
      "     Name  Age  Address Qualification\n",
      "5   Talon   25  Shurima       Support\n",
      "6     Zed   26   Targon           Mid\n",
      "7   Quinn   27  Icathia       Jungler\n",
      "8  Kennen   28    Isles           ADC\n"
     ]
    }
   ],
   "source": [
    "import pandas as pd\n",
    "\n",
    "data1 = {\"Name\":[\"Rahul\",\"Princi\",\"Gaurav\",\"Anuj\"],\n",
    "        \"Age\":[21,22,23,24],\n",
    "        \"Address\":[\"Noxus\",\"Ionia\",\"Freljord\",\"Demacia\"],\n",
    "        \"Qualification\":[\"Assassin\",\"Bruiser\",\"Marksman\",\"Tank\"]}\n",
    "\n",
    "data2 = {\"Name\":[\"Talon\",\"Zed\",\"Quinn\",\"Kennen\"],\n",
    "        \"Age\":[25,26,27,28],\n",
    "        \"Address\":[\"Shurima\",\"Targon\",\"Icathia\",\"Isles\"],\n",
    "        \"Qualification\":[\"Support\",\"Mid\",\"Jungler\",\"ADC\"]}\n",
    "\n",
    "df1 = pd.DataFrame(data1, index=[1,2,3,4])\n",
    "\n",
    "df2 = pd.DataFrame(data2, index=[5,6,7,8])\n",
    "\n",
    "print(df1)\n",
    "print(\"\\n\\n\")\n",
    "print(df2)"
   ]
  },
  {
   "cell_type": "code",
   "execution_count": 12,
   "metadata": {},
   "outputs": [
    {
     "data": {
      "text/html": [
       "<div>\n",
       "<style scoped>\n",
       "    .dataframe tbody tr th:only-of-type {\n",
       "        vertical-align: middle;\n",
       "    }\n",
       "\n",
       "    .dataframe tbody tr th {\n",
       "        vertical-align: top;\n",
       "    }\n",
       "\n",
       "    .dataframe thead th {\n",
       "        text-align: right;\n",
       "    }\n",
       "</style>\n",
       "<table border=\"1\" class=\"dataframe\">\n",
       "  <thead>\n",
       "    <tr style=\"text-align: right;\">\n",
       "      <th></th>\n",
       "      <th>Address</th>\n",
       "      <th>Age</th>\n",
       "      <th>Name</th>\n",
       "      <th>Qualification</th>\n",
       "    </tr>\n",
       "  </thead>\n",
       "  <tbody>\n",
       "    <tr>\n",
       "      <th>1</th>\n",
       "      <td>Noxus</td>\n",
       "      <td>21</td>\n",
       "      <td>Rahul</td>\n",
       "      <td>Assassin</td>\n",
       "    </tr>\n",
       "    <tr>\n",
       "      <th>2</th>\n",
       "      <td>Ionia</td>\n",
       "      <td>22</td>\n",
       "      <td>Princi</td>\n",
       "      <td>Bruiser</td>\n",
       "    </tr>\n",
       "    <tr>\n",
       "      <th>3</th>\n",
       "      <td>Freljord</td>\n",
       "      <td>23</td>\n",
       "      <td>Gaurav</td>\n",
       "      <td>Marksman</td>\n",
       "    </tr>\n",
       "    <tr>\n",
       "      <th>4</th>\n",
       "      <td>Demacia</td>\n",
       "      <td>24</td>\n",
       "      <td>Anuj</td>\n",
       "      <td>Tank</td>\n",
       "    </tr>\n",
       "    <tr>\n",
       "      <th>5</th>\n",
       "      <td>Shurima</td>\n",
       "      <td>25</td>\n",
       "      <td>Talon</td>\n",
       "      <td>Support</td>\n",
       "    </tr>\n",
       "    <tr>\n",
       "      <th>6</th>\n",
       "      <td>Targon</td>\n",
       "      <td>26</td>\n",
       "      <td>Zed</td>\n",
       "      <td>Mid</td>\n",
       "    </tr>\n",
       "    <tr>\n",
       "      <th>7</th>\n",
       "      <td>Icathia</td>\n",
       "      <td>27</td>\n",
       "      <td>Quinn</td>\n",
       "      <td>Jungler</td>\n",
       "    </tr>\n",
       "    <tr>\n",
       "      <th>8</th>\n",
       "      <td>Isles</td>\n",
       "      <td>28</td>\n",
       "      <td>Kennen</td>\n",
       "      <td>ADC</td>\n",
       "    </tr>\n",
       "  </tbody>\n",
       "</table>\n",
       "</div>"
      ],
      "text/plain": [
       "    Address  Age    Name Qualification\n",
       "1     Noxus   21   Rahul      Assassin\n",
       "2     Ionia   22  Princi       Bruiser\n",
       "3  Freljord   23  Gaurav      Marksman\n",
       "4   Demacia   24    Anuj          Tank\n",
       "5   Shurima   25   Talon       Support\n",
       "6    Targon   26     Zed           Mid\n",
       "7   Icathia   27   Quinn       Jungler\n",
       "8     Isles   28  Kennen           ADC"
      ]
     },
     "execution_count": 12,
     "metadata": {},
     "output_type": "execute_result"
    }
   ],
   "source": [
    "#Concatenating the dataframes using append()\n",
    "\n",
    "dfa = df1.append(df2, sort=\"True\")\n",
    "\n",
    "dfa"
   ]
  },
  {
   "cell_type": "markdown",
   "metadata": {},
   "source": [
    "# Concatenating DataFrame by ignoring indexes\n",
    "\n",
    "In order to concatenate a dataframe by ignoring indexes, we ignore index which don't have a meaningful meaning. You may wish to append them and ignore the fact that they may have overlapping indexes. In order to do that, we use ignore_index as an argument."
   ]
  },
  {
   "cell_type": "code",
   "execution_count": 13,
   "metadata": {},
   "outputs": [
    {
     "name": "stdout",
     "output_type": "stream",
     "text": [
      "     Name  Age   Address Qualification\n",
      "1   Rahul   21     Noxus      Assassin\n",
      "2  Princi   22     Ionia       Bruiser\n",
      "3  Gaurav   23  Freljord      Marksman\n",
      "4    Anuj   24   Demacia          Tank\n",
      "\n",
      "\n",
      "\n",
      "     Name  Age  Address Qualification\n",
      "5   Talon   25  Shurima       Support\n",
      "6     Zed   26   Targon           Mid\n",
      "7   Quinn   27  Icathia       Jungler\n",
      "8  Kennen   28    Isles           ADC\n"
     ]
    }
   ],
   "source": [
    "import pandas as pd\n",
    "\n",
    "data1 = {\"Name\":[\"Rahul\",\"Princi\",\"Gaurav\",\"Anuj\"],\n",
    "        \"Age\":[21,22,23,24],\n",
    "        \"Address\":[\"Noxus\",\"Ionia\",\"Freljord\",\"Demacia\"],\n",
    "        \"Qualification\":[\"Assassin\",\"Bruiser\",\"Marksman\",\"Tank\"]}\n",
    "\n",
    "data2 = {\"Name\":[\"Talon\",\"Zed\",\"Quinn\",\"Kennen\"],\n",
    "        \"Age\":[25,26,27,28],\n",
    "        \"Address\":[\"Shurima\",\"Targon\",\"Icathia\",\"Isles\"],\n",
    "        \"Qualification\":[\"Support\",\"Mid\",\"Jungler\",\"ADC\"]}\n",
    "\n",
    "df1 = pd.DataFrame(data1, index=[1,2,3,4])\n",
    "\n",
    "df2 = pd.DataFrame(data2, index=[5,6,7,8])\n",
    "\n",
    "print(df1)\n",
    "print(\"\\n\\n\")\n",
    "print(df2)"
   ]
  },
  {
   "cell_type": "code",
   "execution_count": 14,
   "metadata": {},
   "outputs": [
    {
     "data": {
      "text/html": [
       "<div>\n",
       "<style scoped>\n",
       "    .dataframe tbody tr th:only-of-type {\n",
       "        vertical-align: middle;\n",
       "    }\n",
       "\n",
       "    .dataframe tbody tr th {\n",
       "        vertical-align: top;\n",
       "    }\n",
       "\n",
       "    .dataframe thead th {\n",
       "        text-align: right;\n",
       "    }\n",
       "</style>\n",
       "<table border=\"1\" class=\"dataframe\">\n",
       "  <thead>\n",
       "    <tr style=\"text-align: right;\">\n",
       "      <th></th>\n",
       "      <th>Name</th>\n",
       "      <th>Age</th>\n",
       "      <th>Address</th>\n",
       "      <th>Qualification</th>\n",
       "    </tr>\n",
       "  </thead>\n",
       "  <tbody>\n",
       "    <tr>\n",
       "      <th>0</th>\n",
       "      <td>Rahul</td>\n",
       "      <td>21</td>\n",
       "      <td>Noxus</td>\n",
       "      <td>Assassin</td>\n",
       "    </tr>\n",
       "    <tr>\n",
       "      <th>1</th>\n",
       "      <td>Princi</td>\n",
       "      <td>22</td>\n",
       "      <td>Ionia</td>\n",
       "      <td>Bruiser</td>\n",
       "    </tr>\n",
       "    <tr>\n",
       "      <th>2</th>\n",
       "      <td>Gaurav</td>\n",
       "      <td>23</td>\n",
       "      <td>Freljord</td>\n",
       "      <td>Marksman</td>\n",
       "    </tr>\n",
       "    <tr>\n",
       "      <th>3</th>\n",
       "      <td>Anuj</td>\n",
       "      <td>24</td>\n",
       "      <td>Demacia</td>\n",
       "      <td>Tank</td>\n",
       "    </tr>\n",
       "    <tr>\n",
       "      <th>4</th>\n",
       "      <td>Talon</td>\n",
       "      <td>25</td>\n",
       "      <td>Shurima</td>\n",
       "      <td>Support</td>\n",
       "    </tr>\n",
       "    <tr>\n",
       "      <th>5</th>\n",
       "      <td>Zed</td>\n",
       "      <td>26</td>\n",
       "      <td>Targon</td>\n",
       "      <td>Mid</td>\n",
       "    </tr>\n",
       "    <tr>\n",
       "      <th>6</th>\n",
       "      <td>Quinn</td>\n",
       "      <td>27</td>\n",
       "      <td>Icathia</td>\n",
       "      <td>Jungler</td>\n",
       "    </tr>\n",
       "    <tr>\n",
       "      <th>7</th>\n",
       "      <td>Kennen</td>\n",
       "      <td>28</td>\n",
       "      <td>Isles</td>\n",
       "      <td>ADC</td>\n",
       "    </tr>\n",
       "  </tbody>\n",
       "</table>\n",
       "</div>"
      ],
      "text/plain": [
       "     Name  Age   Address Qualification\n",
       "0   Rahul   21     Noxus      Assassin\n",
       "1  Princi   22     Ionia       Bruiser\n",
       "2  Gaurav   23  Freljord      Marksman\n",
       "3    Anuj   24   Demacia          Tank\n",
       "4   Talon   25   Shurima       Support\n",
       "5     Zed   26    Targon           Mid\n",
       "6   Quinn   27   Icathia       Jungler\n",
       "7  Kennen   28     Isles           ADC"
      ]
     },
     "execution_count": 14,
     "metadata": {},
     "output_type": "execute_result"
    }
   ],
   "source": [
    "#Now using ignore_index\n",
    "\n",
    "dfc = pd.concat([df1,df2], ignore_index=True)\n",
    "\n",
    "dfc"
   ]
  },
  {
   "cell_type": "markdown",
   "metadata": {},
   "source": [
    "As you can see, it ignores the original index and resets it"
   ]
  },
  {
   "cell_type": "markdown",
   "metadata": {},
   "source": [
    "# Concatenating DataFrame with Group keys:\n",
    "\n",
    "We override the column names with the use of the 'keys' argument."
   ]
  },
  {
   "cell_type": "code",
   "execution_count": 16,
   "metadata": {},
   "outputs": [
    {
     "data": {
      "text/html": [
       "<div>\n",
       "<style scoped>\n",
       "    .dataframe tbody tr th:only-of-type {\n",
       "        vertical-align: middle;\n",
       "    }\n",
       "\n",
       "    .dataframe tbody tr th {\n",
       "        vertical-align: top;\n",
       "    }\n",
       "\n",
       "    .dataframe thead th {\n",
       "        text-align: right;\n",
       "    }\n",
       "</style>\n",
       "<table border=\"1\" class=\"dataframe\">\n",
       "  <thead>\n",
       "    <tr style=\"text-align: right;\">\n",
       "      <th></th>\n",
       "      <th></th>\n",
       "      <th>Name</th>\n",
       "      <th>Age</th>\n",
       "      <th>Address</th>\n",
       "      <th>Qualification</th>\n",
       "    </tr>\n",
       "  </thead>\n",
       "  <tbody>\n",
       "    <tr>\n",
       "      <th rowspan=\"4\" valign=\"top\">df1</th>\n",
       "      <th>1</th>\n",
       "      <td>Rahul</td>\n",
       "      <td>21</td>\n",
       "      <td>Noxus</td>\n",
       "      <td>Assassin</td>\n",
       "    </tr>\n",
       "    <tr>\n",
       "      <th>2</th>\n",
       "      <td>Princi</td>\n",
       "      <td>22</td>\n",
       "      <td>Ionia</td>\n",
       "      <td>Bruiser</td>\n",
       "    </tr>\n",
       "    <tr>\n",
       "      <th>3</th>\n",
       "      <td>Gaurav</td>\n",
       "      <td>23</td>\n",
       "      <td>Freljord</td>\n",
       "      <td>Marksman</td>\n",
       "    </tr>\n",
       "    <tr>\n",
       "      <th>4</th>\n",
       "      <td>Anuj</td>\n",
       "      <td>24</td>\n",
       "      <td>Demacia</td>\n",
       "      <td>Tank</td>\n",
       "    </tr>\n",
       "    <tr>\n",
       "      <th rowspan=\"4\" valign=\"top\">df2</th>\n",
       "      <th>5</th>\n",
       "      <td>Talon</td>\n",
       "      <td>25</td>\n",
       "      <td>Shurima</td>\n",
       "      <td>Support</td>\n",
       "    </tr>\n",
       "    <tr>\n",
       "      <th>6</th>\n",
       "      <td>Zed</td>\n",
       "      <td>26</td>\n",
       "      <td>Targon</td>\n",
       "      <td>Mid</td>\n",
       "    </tr>\n",
       "    <tr>\n",
       "      <th>7</th>\n",
       "      <td>Quinn</td>\n",
       "      <td>27</td>\n",
       "      <td>Icathia</td>\n",
       "      <td>Jungler</td>\n",
       "    </tr>\n",
       "    <tr>\n",
       "      <th>8</th>\n",
       "      <td>Kennen</td>\n",
       "      <td>28</td>\n",
       "      <td>Isles</td>\n",
       "      <td>ADC</td>\n",
       "    </tr>\n",
       "  </tbody>\n",
       "</table>\n",
       "</div>"
      ],
      "text/plain": [
       "         Name  Age   Address Qualification\n",
       "df1 1   Rahul   21     Noxus      Assassin\n",
       "    2  Princi   22     Ionia       Bruiser\n",
       "    3  Gaurav   23  Freljord      Marksman\n",
       "    4    Anuj   24   Demacia          Tank\n",
       "df2 5   Talon   25   Shurima       Support\n",
       "    6     Zed   26    Targon           Mid\n",
       "    7   Quinn   27   Icathia       Jungler\n",
       "    8  Kennen   28     Isles           ADC"
      ]
     },
     "execution_count": 16,
     "metadata": {},
     "output_type": "execute_result"
    }
   ],
   "source": [
    "frames = [df1,df2]\n",
    "\n",
    "dfg = pd.concat(frames, keys=[\"df1\",\"df2\"])\n",
    "\n",
    "dfg"
   ]
  },
  {
   "cell_type": "markdown",
   "metadata": {},
   "source": [
    "# Concatenating with ndims (N-dimensions)\n",
    "\n",
    "User can concat a mix of Series and DataFrames. The series will be transformed into DataFrame with the Series's name as the column name in the Dataframe"
   ]
  },
  {
   "cell_type": "code",
   "execution_count": 21,
   "metadata": {},
   "outputs": [
    {
     "name": "stdout",
     "output_type": "stream",
     "text": [
      "     Name  Age  Address Qualification\n",
      "0   Talon   25  Shurima       Support\n",
      "1     Zed   26   Targon           Mid\n",
      "2   Quinn   27  Icathia       Jungler\n",
      "3  Kennen   28    Isles           ADC\n",
      "\n",
      "\n",
      "\n",
      "0    1000\n",
      "1    2000\n",
      "2    3000\n",
      "3    4000\n",
      "Name: Damage, dtype: int64\n",
      "Damage\n"
     ]
    }
   ],
   "source": [
    "import pandas as pd\n",
    "\n",
    "data1 = {\"Name\":[\"Talon\",\"Zed\",\"Quinn\",\"Kennen\"],\n",
    "        \"Age\":[25,26,27,28],\n",
    "        \"Address\":[\"Shurima\",\"Targon\",\"Icathia\",\"Isles\"],\n",
    "        \"Qualification\":[\"Support\",\"Mid\",\"Jungler\",\"ADC\"]}\n",
    "\n",
    "df1 = pd.DataFrame(data1, index=[0,1,2,3])\n",
    "\n",
    "print(df1)\n",
    "print(\"\\n\\n\")\n",
    "\n",
    "s1 = pd.Series([1000,2000,3000,4000], name = \"Damage\")\n",
    "print(s1)\n",
    "print(s1.name)"
   ]
  },
  {
   "cell_type": "code",
   "execution_count": 25,
   "metadata": {},
   "outputs": [
    {
     "data": {
      "text/html": [
       "<div>\n",
       "<style scoped>\n",
       "    .dataframe tbody tr th:only-of-type {\n",
       "        vertical-align: middle;\n",
       "    }\n",
       "\n",
       "    .dataframe tbody tr th {\n",
       "        vertical-align: top;\n",
       "    }\n",
       "\n",
       "    .dataframe thead th {\n",
       "        text-align: right;\n",
       "    }\n",
       "</style>\n",
       "<table border=\"1\" class=\"dataframe\">\n",
       "  <thead>\n",
       "    <tr style=\"text-align: right;\">\n",
       "      <th></th>\n",
       "      <th>Name</th>\n",
       "      <th>Age</th>\n",
       "      <th>Address</th>\n",
       "      <th>Qualification</th>\n",
       "      <th>Damage</th>\n",
       "    </tr>\n",
       "  </thead>\n",
       "  <tbody>\n",
       "    <tr>\n",
       "      <th>0</th>\n",
       "      <td>Talon</td>\n",
       "      <td>25</td>\n",
       "      <td>Shurima</td>\n",
       "      <td>Support</td>\n",
       "      <td>1000</td>\n",
       "    </tr>\n",
       "    <tr>\n",
       "      <th>1</th>\n",
       "      <td>Zed</td>\n",
       "      <td>26</td>\n",
       "      <td>Targon</td>\n",
       "      <td>Mid</td>\n",
       "      <td>2000</td>\n",
       "    </tr>\n",
       "    <tr>\n",
       "      <th>2</th>\n",
       "      <td>Quinn</td>\n",
       "      <td>27</td>\n",
       "      <td>Icathia</td>\n",
       "      <td>Jungler</td>\n",
       "      <td>3000</td>\n",
       "    </tr>\n",
       "    <tr>\n",
       "      <th>3</th>\n",
       "      <td>Kennen</td>\n",
       "      <td>28</td>\n",
       "      <td>Isles</td>\n",
       "      <td>ADC</td>\n",
       "      <td>4000</td>\n",
       "    </tr>\n",
       "  </tbody>\n",
       "</table>\n",
       "</div>"
      ],
      "text/plain": [
       "     Name  Age  Address Qualification  Damage\n",
       "0   Talon   25  Shurima       Support    1000\n",
       "1     Zed   26   Targon           Mid    2000\n",
       "2   Quinn   27  Icathia       Jungler    3000\n",
       "3  Kennen   28    Isles           ADC    4000"
      ]
     },
     "execution_count": 25,
     "metadata": {},
     "output_type": "execute_result"
    }
   ],
   "source": [
    "#Mixing Series and DataFrame together\n",
    "\n",
    "dfc = pd.concat([df1,s1], axis=1) #axis=0 to add row\n",
    "\n",
    "dfc"
   ]
  },
  {
   "cell_type": "markdown",
   "metadata": {},
   "source": [
    "# Merging DataFrames"
   ]
  },
  {
   "cell_type": "code",
   "execution_count": 26,
   "metadata": {},
   "outputs": [
    {
     "name": "stdout",
     "output_type": "stream",
     "text": [
      "  key     Name  Age\n",
      "0  K0    Talon   25\n",
      "1  K1      Zed   45\n",
      "2  K2    Kaisa   22\n",
      "3  K3  Karthus  400 \n",
      "\n",
      "   key     Name  Age\n",
      "0  K0  Hecarim  100\n",
      "1  K1   Kalita  100\n",
      "2  K2    Nasus  800\n",
      "3  K3      Jax  200\n"
     ]
    }
   ],
   "source": [
    "#Code 1: Merging a DataFrame with one unique key combination\n",
    "\n",
    "import pandas as pd\n",
    "\n",
    "data1 = {\"key\":[\"K0\",\"K1\",\"K2\",\"K3\"],\n",
    "        \"Name\":[\"Talon\",\"Zed\",\"Kaisa\",\"Karthus\"],\n",
    "        \"Age\":[25,45,22,400]}\n",
    "\n",
    "data2 = {\"key\":[\"K0\",\"K1\",\"K2\",\"K3\"],\n",
    "        \"Name\":[\"Hecarim\",\"Kalita\",\"Nasus\",\"Jax\"],\n",
    "        \"Age\":[100,100,800,200]}\n",
    "\n",
    "df1 = pd.DataFrame(data1)\n",
    "df2 = pd.DataFrame(data2)\n",
    "\n",
    "print(df1,\"\\n\\n\",df2)"
   ]
  },
  {
   "cell_type": "code",
   "execution_count": 27,
   "metadata": {},
   "outputs": [
    {
     "data": {
      "text/html": [
       "<div>\n",
       "<style scoped>\n",
       "    .dataframe tbody tr th:only-of-type {\n",
       "        vertical-align: middle;\n",
       "    }\n",
       "\n",
       "    .dataframe tbody tr th {\n",
       "        vertical-align: top;\n",
       "    }\n",
       "\n",
       "    .dataframe thead th {\n",
       "        text-align: right;\n",
       "    }\n",
       "</style>\n",
       "<table border=\"1\" class=\"dataframe\">\n",
       "  <thead>\n",
       "    <tr style=\"text-align: right;\">\n",
       "      <th></th>\n",
       "      <th>key</th>\n",
       "      <th>Name_x</th>\n",
       "      <th>Age_x</th>\n",
       "      <th>Name_y</th>\n",
       "      <th>Age_y</th>\n",
       "    </tr>\n",
       "  </thead>\n",
       "  <tbody>\n",
       "    <tr>\n",
       "      <th>0</th>\n",
       "      <td>K0</td>\n",
       "      <td>Talon</td>\n",
       "      <td>25</td>\n",
       "      <td>Hecarim</td>\n",
       "      <td>100</td>\n",
       "    </tr>\n",
       "    <tr>\n",
       "      <th>1</th>\n",
       "      <td>K1</td>\n",
       "      <td>Zed</td>\n",
       "      <td>45</td>\n",
       "      <td>Kalita</td>\n",
       "      <td>100</td>\n",
       "    </tr>\n",
       "    <tr>\n",
       "      <th>2</th>\n",
       "      <td>K2</td>\n",
       "      <td>Kaisa</td>\n",
       "      <td>22</td>\n",
       "      <td>Nasus</td>\n",
       "      <td>800</td>\n",
       "    </tr>\n",
       "    <tr>\n",
       "      <th>3</th>\n",
       "      <td>K3</td>\n",
       "      <td>Karthus</td>\n",
       "      <td>400</td>\n",
       "      <td>Jax</td>\n",
       "      <td>200</td>\n",
       "    </tr>\n",
       "  </tbody>\n",
       "</table>\n",
       "</div>"
      ],
      "text/plain": [
       "  key   Name_x  Age_x   Name_y  Age_y\n",
       "0  K0    Talon     25  Hecarim    100\n",
       "1  K1      Zed     45   Kalita    100\n",
       "2  K2    Kaisa     22    Nasus    800\n",
       "3  K3  Karthus    400      Jax    200"
      ]
     },
     "execution_count": 27,
     "metadata": {},
     "output_type": "execute_result"
    }
   ],
   "source": [
    "#Using merge() function\n",
    "\n",
    "dfm = pd.merge(df1, df2, on=\"key\")\n",
    "\n",
    "dfm"
   ]
  },
  {
   "cell_type": "markdown",
   "metadata": {},
   "source": [
    "# Questions"
   ]
  },
  {
   "cell_type": "raw",
   "metadata": {},
   "source": [
    "1: WAP to get the powers of an array element-wise (First array elements raised to the power of elements from second array)\n",
    "\n",
    "Sample data:\n",
    "{\"X\":[1,2,3,4,5],\"Y\":[6,7,8,9,10],\"Z\":[11,12,13,14,15]}\n",
    "\n",
    "2: WAP to create and display a dataframe from a specified dictionary data which has the index labels.\n",
    "\n",
    "Sample data:\n",
    "exam_data = {\"Name\":[....],\"Score\":[10,...,np.nan,....19],\"Attempts\":[1,2,3,...],\"Qualify\":[\"yes\"/\"no\"...],\n",
    "            Labels=[\"a\",\"b\",...]\n",
    "\n",
    "Expected output:\n",
    "Attempts       Name       Qualify        Score\n",
    "\n",
    "3: Write a pandas program to display a summary of the basic information about specified dataframe and its data.\n",
    "\n",
    "4: Write a pandas program to get the first three rows of a given dataframe.\n",
    "\n",
    "5: Write a pandas program to select the \"name\" and \"score\" columns from the given dataframe.\n",
    "\n",
    "6: Write a pandas program to select the specified columns and rows from a given dataframe.\n",
    "\n",
    "Example: Select \"name\" and \"score\", in rows 1,3,5,6\n",
    "\n",
    "7: Write a pandas program to select the rows where the number of attemps in examination is greater than 2.\n",
    "\n",
    "8. Write a pandas program to count the number of rows and columns of a dataframe.\n",
    "\n",
    "9. WAPP to select the rows where the score is missing (np.nan)\n",
    "\n",
    "10: WAPP to select the rows the score is between 15 and 20 (inclusive).\n",
    "\n",
    "11: WAPP to select the rows where number of attempts is less than 2 and greater than 15\n",
    "\n",
    "12: WAPP to change the score in row 'd' to 11.5"
   ]
  },
  {
   "cell_type": "code",
   "execution_count": 3,
   "metadata": {},
   "outputs": [
    {
     "name": "stdout",
     "output_type": "stream",
     "text": [
      "0          1\n",
      "1        128\n",
      "2       6561\n",
      "3     262144\n",
      "4    9765625\n",
      "dtype: int32\n"
     ]
    }
   ],
   "source": [
    "#WAP to get the powers of an array element-wise\n",
    "\n",
    "import numpy as np\n",
    "import pandas as pd\n",
    "\n",
    "ar1 = np.array([1,2,3,4,5])\n",
    "ar2 = np.array([6,7,8,9,10])\n",
    "\n",
    "s1 = pd.Series(ar1)\n",
    "s2 = pd.Series(ar2)\n",
    "\n",
    "s3 = s1**s2\n",
    "\n",
    "print(s3)"
   ]
  },
  {
   "cell_type": "code",
   "execution_count": 26,
   "metadata": {},
   "outputs": [
    {
     "data": {
      "text/html": [
       "<div>\n",
       "<style scoped>\n",
       "    .dataframe tbody tr th:only-of-type {\n",
       "        vertical-align: middle;\n",
       "    }\n",
       "\n",
       "    .dataframe tbody tr th {\n",
       "        vertical-align: top;\n",
       "    }\n",
       "\n",
       "    .dataframe thead th {\n",
       "        text-align: right;\n",
       "    }\n",
       "</style>\n",
       "<table border=\"1\" class=\"dataframe\">\n",
       "  <thead>\n",
       "    <tr style=\"text-align: right;\">\n",
       "      <th></th>\n",
       "      <th>Name</th>\n",
       "      <th>Score</th>\n",
       "      <th>Attempts</th>\n",
       "      <th>Qualify</th>\n",
       "    </tr>\n",
       "  </thead>\n",
       "  <tbody>\n",
       "    <tr>\n",
       "      <th>a</th>\n",
       "      <td>Sayantan</td>\n",
       "      <td>11.0</td>\n",
       "      <td>1</td>\n",
       "      <td>yes</td>\n",
       "    </tr>\n",
       "    <tr>\n",
       "      <th>b</th>\n",
       "      <td>Vanshika</td>\n",
       "      <td>17.0</td>\n",
       "      <td>2</td>\n",
       "      <td>yes</td>\n",
       "    </tr>\n",
       "    <tr>\n",
       "      <th>c</th>\n",
       "      <td>Gaurav</td>\n",
       "      <td>13.0</td>\n",
       "      <td>3</td>\n",
       "      <td>yes</td>\n",
       "    </tr>\n",
       "    <tr>\n",
       "      <th>d</th>\n",
       "      <td>Gagan</td>\n",
       "      <td>NaN</td>\n",
       "      <td>1</td>\n",
       "      <td>no</td>\n",
       "    </tr>\n",
       "    <tr>\n",
       "      <th>e</th>\n",
       "      <td>Varun</td>\n",
       "      <td>18.0</td>\n",
       "      <td>2</td>\n",
       "      <td>yes</td>\n",
       "    </tr>\n",
       "    <tr>\n",
       "      <th>f</th>\n",
       "      <td>Sahitya</td>\n",
       "      <td>NaN</td>\n",
       "      <td>2</td>\n",
       "      <td>no</td>\n",
       "    </tr>\n",
       "  </tbody>\n",
       "</table>\n",
       "</div>"
      ],
      "text/plain": [
       "       Name  Score  Attempts Qualify\n",
       "a  Sayantan   11.0         1     yes\n",
       "b  Vanshika   17.0         2     yes\n",
       "c    Gaurav   13.0         3     yes\n",
       "d     Gagan    NaN         1      no\n",
       "e     Varun   18.0         2     yes\n",
       "f   Sahitya    NaN         2      no"
      ]
     },
     "execution_count": 26,
     "metadata": {},
     "output_type": "execute_result"
    }
   ],
   "source": [
    "#WAP to create and display a dataframe from a specified dictionary data which has the index labels\n",
    "\n",
    "#Dictionary\n",
    "exam_data = {\"Name\":[\"Sayantan\",\"Vanshika\",\"Gaurav\",\"Gagan\",\"Varun\",\"Sahitya\"],\n",
    "            \"Score\":[11,17,13,np.nan,18,np.nan],\n",
    "            \"Attempts\":[1,2,3,1,2,2],\n",
    "            \"Qualify\":[\"yes\",\"yes\",\"yes\",\"no\",\"yes\",\"no\"]}\n",
    "Labels=['a','b','c','d','e','f']\n",
    "\n",
    "df = pd.DataFrame(exam_data, index=Labels)\n",
    "df"
   ]
  },
  {
   "cell_type": "code",
   "execution_count": 19,
   "metadata": {},
   "outputs": [
    {
     "name": "stdout",
     "output_type": "stream",
     "text": [
      "DataFrame type: <class 'pandas.core.frame.DataFrame'>\n",
      "Number of rows: 6\n",
      "Number of columns 5\n",
      "Data type of elements:\n",
      " Name         object\n",
      "Score       float64\n",
      "Attempts      int64\n",
      "Qualify      object\n",
      "dtype: object\n",
      "The shape of Dataframe is: (6, 4)\n"
     ]
    }
   ],
   "source": [
    "#WAP to display a summary of the Dataframe\n",
    "\n",
    "print(\"DataFrame type:\",type(df))    \n",
    "print(\"Number of rows:\",len(df.index))\n",
    "print(\"Number of columns\",len(df.columns)+1) #+1 for index as needed\n",
    "print(\"Data type of elements:\\n\",df.dtypes)\n",
    "print(\"The shape of Dataframe is:\",df.shape)"
   ]
  },
  {
   "cell_type": "code",
   "execution_count": 61,
   "metadata": {},
   "outputs": [
    {
     "name": "stdout",
     "output_type": "stream",
     "text": [
      "       Name  Score  Attempts Qualify\n",
      "a  Sayantan   11.0         1     yes\n",
      "b  Vanshika   12.0         2     yes\n",
      "c    Gaurav   13.0         3     yes\n"
     ]
    }
   ],
   "source": [
    "#Write a pandas program to get the first three rows of a given dataframe\n",
    "\n",
    "print(df[0:3])"
   ]
  },
  {
   "cell_type": "code",
   "execution_count": 67,
   "metadata": {},
   "outputs": [
    {
     "data": {
      "text/html": [
       "<div>\n",
       "<style scoped>\n",
       "    .dataframe tbody tr th:only-of-type {\n",
       "        vertical-align: middle;\n",
       "    }\n",
       "\n",
       "    .dataframe tbody tr th {\n",
       "        vertical-align: top;\n",
       "    }\n",
       "\n",
       "    .dataframe thead th {\n",
       "        text-align: right;\n",
       "    }\n",
       "</style>\n",
       "<table border=\"1\" class=\"dataframe\">\n",
       "  <thead>\n",
       "    <tr style=\"text-align: right;\">\n",
       "      <th></th>\n",
       "      <th>Name</th>\n",
       "      <th>Score</th>\n",
       "    </tr>\n",
       "  </thead>\n",
       "  <tbody>\n",
       "    <tr>\n",
       "      <th>a</th>\n",
       "      <td>Sayantan</td>\n",
       "      <td>11.0</td>\n",
       "    </tr>\n",
       "    <tr>\n",
       "      <th>b</th>\n",
       "      <td>Vanshika</td>\n",
       "      <td>12.0</td>\n",
       "    </tr>\n",
       "    <tr>\n",
       "      <th>c</th>\n",
       "      <td>Gaurav</td>\n",
       "      <td>13.0</td>\n",
       "    </tr>\n",
       "    <tr>\n",
       "      <th>d</th>\n",
       "      <td>Gagan</td>\n",
       "      <td>NaN</td>\n",
       "    </tr>\n",
       "    <tr>\n",
       "      <th>e</th>\n",
       "      <td>Varun</td>\n",
       "      <td>14.0</td>\n",
       "    </tr>\n",
       "    <tr>\n",
       "      <th>f</th>\n",
       "      <td>Sahitya</td>\n",
       "      <td>NaN</td>\n",
       "    </tr>\n",
       "  </tbody>\n",
       "</table>\n",
       "</div>"
      ],
      "text/plain": [
       "       Name  Score\n",
       "a  Sayantan   11.0\n",
       "b  Vanshika   12.0\n",
       "c    Gaurav   13.0\n",
       "d     Gagan    NaN\n",
       "e     Varun   14.0\n",
       "f   Sahitya    NaN"
      ]
     },
     "execution_count": 67,
     "metadata": {},
     "output_type": "execute_result"
    }
   ],
   "source": [
    "#5: Write a pandas program to select the \"name\" and \"score\" columns from the given dataframe.\n",
    "\n",
    "df[[\"Name\",\"Score\"]]"
   ]
  },
  {
   "cell_type": "code",
   "execution_count": 73,
   "metadata": {},
   "outputs": [
    {
     "data": {
      "text/html": [
       "<div>\n",
       "<style scoped>\n",
       "    .dataframe tbody tr th:only-of-type {\n",
       "        vertical-align: middle;\n",
       "    }\n",
       "\n",
       "    .dataframe tbody tr th {\n",
       "        vertical-align: top;\n",
       "    }\n",
       "\n",
       "    .dataframe thead th {\n",
       "        text-align: right;\n",
       "    }\n",
       "</style>\n",
       "<table border=\"1\" class=\"dataframe\">\n",
       "  <thead>\n",
       "    <tr style=\"text-align: right;\">\n",
       "      <th></th>\n",
       "      <th>Name</th>\n",
       "      <th>Score</th>\n",
       "    </tr>\n",
       "  </thead>\n",
       "  <tbody>\n",
       "    <tr>\n",
       "      <th>a</th>\n",
       "      <td>Sayantan</td>\n",
       "      <td>11.0</td>\n",
       "    </tr>\n",
       "    <tr>\n",
       "      <th>c</th>\n",
       "      <td>Gaurav</td>\n",
       "      <td>13.0</td>\n",
       "    </tr>\n",
       "    <tr>\n",
       "      <th>e</th>\n",
       "      <td>Varun</td>\n",
       "      <td>14.0</td>\n",
       "    </tr>\n",
       "    <tr>\n",
       "      <th>f</th>\n",
       "      <td>Sahitya</td>\n",
       "      <td>NaN</td>\n",
       "    </tr>\n",
       "  </tbody>\n",
       "</table>\n",
       "</div>"
      ],
      "text/plain": [
       "       Name  Score\n",
       "a  Sayantan   11.0\n",
       "c    Gaurav   13.0\n",
       "e     Varun   14.0\n",
       "f   Sahitya    NaN"
      ]
     },
     "execution_count": 73,
     "metadata": {},
     "output_type": "execute_result"
    }
   ],
   "source": [
    "#6: Write a pandas program to select the \"name\" and \"score\" columns from the given dataframe and row 1,3,5,6\n",
    "\n",
    "df.loc[[\"a\",\"c\",\"e\",\"f\"],[\"Name\",\"Score\"]]"
   ]
  },
  {
   "cell_type": "code",
   "execution_count": 5,
   "metadata": {},
   "outputs": [
    {
     "name": "stdout",
     "output_type": "stream",
     "text": [
      "The rows in which the number of attempts is more than 2 are:\n"
     ]
    },
    {
     "data": {
      "text/html": [
       "<div>\n",
       "<style scoped>\n",
       "    .dataframe tbody tr th:only-of-type {\n",
       "        vertical-align: middle;\n",
       "    }\n",
       "\n",
       "    .dataframe tbody tr th {\n",
       "        vertical-align: top;\n",
       "    }\n",
       "\n",
       "    .dataframe thead th {\n",
       "        text-align: right;\n",
       "    }\n",
       "</style>\n",
       "<table border=\"1\" class=\"dataframe\">\n",
       "  <thead>\n",
       "    <tr style=\"text-align: right;\">\n",
       "      <th></th>\n",
       "      <th>Name</th>\n",
       "      <th>Score</th>\n",
       "      <th>Attempts</th>\n",
       "      <th>Qualify</th>\n",
       "    </tr>\n",
       "  </thead>\n",
       "  <tbody>\n",
       "    <tr>\n",
       "      <th>c</th>\n",
       "      <td>Gaurav</td>\n",
       "      <td>13.0</td>\n",
       "      <td>3</td>\n",
       "      <td>yes</td>\n",
       "    </tr>\n",
       "  </tbody>\n",
       "</table>\n",
       "</div>"
      ],
      "text/plain": [
       "     Name  Score  Attempts Qualify\n",
       "c  Gaurav   13.0         3     yes"
      ]
     },
     "execution_count": 5,
     "metadata": {},
     "output_type": "execute_result"
    }
   ],
   "source": [
    "#7: Write a pandas program to select the rows where the number of attemps in examination is greater than 2\n",
    "\n",
    "print(\"The rows in which the number of attempts is more than 2 are:\")\n",
    "df[df.Attempts>2]"
   ]
  },
  {
   "cell_type": "code",
   "execution_count": 6,
   "metadata": {},
   "outputs": [
    {
     "name": "stdout",
     "output_type": "stream",
     "text": [
      "The number of rows and columns are: 6 & 4\n"
     ]
    }
   ],
   "source": [
    "#8: WAPP to count the number of rows and columns in a dataframe\n",
    "\n",
    "print(\"The number of rows and columns are:\", len(df.index), \"&\", len(df.columns))"
   ]
  },
  {
   "cell_type": "code",
   "execution_count": 22,
   "metadata": {},
   "outputs": [
    {
     "name": "stdout",
     "output_type": "stream",
     "text": [
      "nan\n"
     ]
    }
   ],
   "source": [
    "#9: WAPP to select the rows where the score is missing (np.nan)\n",
    "\n",
    "df[df.Score == np.nan]\n",
    "\n",
    "print(np.nan)"
   ]
  },
  {
   "cell_type": "code",
   "execution_count": 31,
   "metadata": {},
   "outputs": [
    {
     "data": {
      "text/html": [
       "<div>\n",
       "<style scoped>\n",
       "    .dataframe tbody tr th:only-of-type {\n",
       "        vertical-align: middle;\n",
       "    }\n",
       "\n",
       "    .dataframe tbody tr th {\n",
       "        vertical-align: top;\n",
       "    }\n",
       "\n",
       "    .dataframe thead th {\n",
       "        text-align: right;\n",
       "    }\n",
       "</style>\n",
       "<table border=\"1\" class=\"dataframe\">\n",
       "  <thead>\n",
       "    <tr style=\"text-align: right;\">\n",
       "      <th></th>\n",
       "      <th>Name</th>\n",
       "      <th>Score</th>\n",
       "      <th>Attempts</th>\n",
       "      <th>Qualify</th>\n",
       "      <th>Name</th>\n",
       "      <th>Score</th>\n",
       "      <th>Attempts</th>\n",
       "      <th>Qualify</th>\n",
       "    </tr>\n",
       "  </thead>\n",
       "  <tbody>\n",
       "    <tr>\n",
       "      <th>b</th>\n",
       "      <td>Vanshika</td>\n",
       "      <td>17.0</td>\n",
       "      <td>2</td>\n",
       "      <td>yes</td>\n",
       "      <td>Vanshika</td>\n",
       "      <td>17.0</td>\n",
       "      <td>2</td>\n",
       "      <td>yes</td>\n",
       "    </tr>\n",
       "    <tr>\n",
       "      <th>e</th>\n",
       "      <td>Varun</td>\n",
       "      <td>18.0</td>\n",
       "      <td>2</td>\n",
       "      <td>yes</td>\n",
       "      <td>Varun</td>\n",
       "      <td>18.0</td>\n",
       "      <td>2</td>\n",
       "      <td>yes</td>\n",
       "    </tr>\n",
       "  </tbody>\n",
       "</table>\n",
       "</div>"
      ],
      "text/plain": [
       "       Name  Score  Attempts Qualify      Name  Score  Attempts Qualify\n",
       "b  Vanshika   17.0         2     yes  Vanshika   17.0         2     yes\n",
       "e     Varun   18.0         2     yes     Varun   18.0         2     yes"
      ]
     },
     "execution_count": 31,
     "metadata": {},
     "output_type": "execute_result"
    }
   ],
   "source": [
    "#10: WAPP to select the rows the score is between 15 and 20 (inclusive)\n",
    "\n",
    "df1 = df[df.Score >=15]\n",
    "df2 = df[df.Score <=20] #large boolean algebra not working\n",
    "\n",
    "df3 = pd.concat([df1,df2], axis=1, join=\"inner\")\n",
    "df3"
   ]
  },
  {
   "cell_type": "code",
   "execution_count": 32,
   "metadata": {},
   "outputs": [
    {
     "name": "stderr",
     "output_type": "stream",
     "text": [
      "C:\\Users\\msi1\\Anaconda3\\lib\\site-packages\\ipykernel_launcher.py:6: FutureWarning: Sorting because non-concatenation axis is not aligned. A future version\n",
      "of pandas will change to not sort by default.\n",
      "\n",
      "To accept the future behavior, pass 'sort=False'.\n",
      "\n",
      "To retain the current behavior and silence the warning, pass 'sort=True'.\n",
      "\n",
      "  \n"
     ]
    },
    {
     "data": {
      "text/html": [
       "<div>\n",
       "<style scoped>\n",
       "    .dataframe tbody tr th:only-of-type {\n",
       "        vertical-align: middle;\n",
       "    }\n",
       "\n",
       "    .dataframe tbody tr th {\n",
       "        vertical-align: top;\n",
       "    }\n",
       "\n",
       "    .dataframe thead th {\n",
       "        text-align: right;\n",
       "    }\n",
       "</style>\n",
       "<table border=\"1\" class=\"dataframe\">\n",
       "  <thead>\n",
       "    <tr style=\"text-align: right;\">\n",
       "      <th></th>\n",
       "      <th>Name</th>\n",
       "      <th>Score</th>\n",
       "      <th>Attempts</th>\n",
       "      <th>Qualify</th>\n",
       "      <th>Name</th>\n",
       "      <th>Score</th>\n",
       "      <th>Attempts</th>\n",
       "      <th>Qualify</th>\n",
       "    </tr>\n",
       "  </thead>\n",
       "  <tbody>\n",
       "    <tr>\n",
       "      <th>a</th>\n",
       "      <td>Sayantan</td>\n",
       "      <td>11.0</td>\n",
       "      <td>1</td>\n",
       "      <td>yes</td>\n",
       "      <td>NaN</td>\n",
       "      <td>NaN</td>\n",
       "      <td>NaN</td>\n",
       "      <td>NaN</td>\n",
       "    </tr>\n",
       "    <tr>\n",
       "      <th>d</th>\n",
       "      <td>Gagan</td>\n",
       "      <td>NaN</td>\n",
       "      <td>1</td>\n",
       "      <td>no</td>\n",
       "      <td>NaN</td>\n",
       "      <td>NaN</td>\n",
       "      <td>NaN</td>\n",
       "      <td>NaN</td>\n",
       "    </tr>\n",
       "  </tbody>\n",
       "</table>\n",
       "</div>"
      ],
      "text/plain": [
       "       Name  Score  Attempts Qualify Name  Score  Attempts Qualify\n",
       "a  Sayantan   11.0         1     yes  NaN    NaN       NaN     NaN\n",
       "d     Gagan    NaN         1      no  NaN    NaN       NaN     NaN"
      ]
     },
     "execution_count": 32,
     "metadata": {},
     "output_type": "execute_result"
    }
   ],
   "source": [
    "#11: WAPP to select the rows where number of attempts is less than 2 and greater than 15\n",
    "\n",
    "df1 = df[df.Attempts < 2]\n",
    "df2 = df[df.Attempts > 15] #large boolean algebra not working\n",
    "\n",
    "df3 = pd.concat([df1,df2], axis=1, join=\"outer\")\n",
    "df3"
   ]
  },
  {
   "cell_type": "code",
   "execution_count": 37,
   "metadata": {},
   "outputs": [
    {
     "name": "stderr",
     "output_type": "stream",
     "text": [
      "C:\\Users\\msi1\\Anaconda3\\lib\\site-packages\\ipykernel_launcher.py:3: SettingWithCopyWarning: \n",
      "A value is trying to be set on a copy of a slice from a DataFrame\n",
      "\n",
      "See the caveats in the documentation: http://pandas.pydata.org/pandas-docs/stable/indexing.html#indexing-view-versus-copy\n",
      "  This is separate from the ipykernel package so we can avoid doing imports until\n"
     ]
    },
    {
     "data": {
      "text/html": [
       "<div>\n",
       "<style scoped>\n",
       "    .dataframe tbody tr th:only-of-type {\n",
       "        vertical-align: middle;\n",
       "    }\n",
       "\n",
       "    .dataframe tbody tr th {\n",
       "        vertical-align: top;\n",
       "    }\n",
       "\n",
       "    .dataframe thead th {\n",
       "        text-align: right;\n",
       "    }\n",
       "</style>\n",
       "<table border=\"1\" class=\"dataframe\">\n",
       "  <thead>\n",
       "    <tr style=\"text-align: right;\">\n",
       "      <th></th>\n",
       "      <th>Name</th>\n",
       "      <th>Score</th>\n",
       "      <th>Attempts</th>\n",
       "      <th>Qualify</th>\n",
       "    </tr>\n",
       "  </thead>\n",
       "  <tbody>\n",
       "    <tr>\n",
       "      <th>a</th>\n",
       "      <td>Sayantan</td>\n",
       "      <td>11.0</td>\n",
       "      <td>1</td>\n",
       "      <td>yes</td>\n",
       "    </tr>\n",
       "    <tr>\n",
       "      <th>b</th>\n",
       "      <td>Vanshika</td>\n",
       "      <td>17.0</td>\n",
       "      <td>2</td>\n",
       "      <td>yes</td>\n",
       "    </tr>\n",
       "    <tr>\n",
       "      <th>c</th>\n",
       "      <td>Gaurav</td>\n",
       "      <td>13.0</td>\n",
       "      <td>3</td>\n",
       "      <td>yes</td>\n",
       "    </tr>\n",
       "    <tr>\n",
       "      <th>d</th>\n",
       "      <td>Gagan</td>\n",
       "      <td>11.5</td>\n",
       "      <td>1</td>\n",
       "      <td>no</td>\n",
       "    </tr>\n",
       "    <tr>\n",
       "      <th>e</th>\n",
       "      <td>Varun</td>\n",
       "      <td>18.0</td>\n",
       "      <td>2</td>\n",
       "      <td>yes</td>\n",
       "    </tr>\n",
       "    <tr>\n",
       "      <th>f</th>\n",
       "      <td>Sahitya</td>\n",
       "      <td>NaN</td>\n",
       "      <td>2</td>\n",
       "      <td>no</td>\n",
       "    </tr>\n",
       "  </tbody>\n",
       "</table>\n",
       "</div>"
      ],
      "text/plain": [
       "       Name  Score  Attempts Qualify\n",
       "a  Sayantan   11.0         1     yes\n",
       "b  Vanshika   17.0         2     yes\n",
       "c    Gaurav   13.0         3     yes\n",
       "d     Gagan   11.5         1      no\n",
       "e     Varun   18.0         2     yes\n",
       "f   Sahitya    NaN         2      no"
      ]
     },
     "execution_count": 37,
     "metadata": {},
     "output_type": "execute_result"
    }
   ],
   "source": [
    "#12: WAPP to change the score in row 'd' to 11.5\n",
    "\n",
    "df.Score[\"d\"] = 11.5\n",
    "\n",
    "df"
   ]
  },
  {
   "cell_type": "code",
   "execution_count": null,
   "metadata": {},
   "outputs": [],
   "source": []
  }
 ],
 "metadata": {
  "kernelspec": {
   "display_name": "Python 3",
   "language": "python",
   "name": "python3"
  },
  "language_info": {
   "codemirror_mode": {
    "name": "ipython",
    "version": 3
   },
   "file_extension": ".py",
   "mimetype": "text/x-python",
   "name": "python",
   "nbconvert_exporter": "python",
   "pygments_lexer": "ipython3",
   "version": "3.7.3"
  }
 },
 "nbformat": 4,
 "nbformat_minor": 2
}
